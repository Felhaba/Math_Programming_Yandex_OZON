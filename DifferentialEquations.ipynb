{
  "nbformat": 4,
  "nbformat_minor": 0,
  "metadata": {
    "colab": {
      "provenance": [],
      "collapsed_sections": [
        "hgdWKLWQcRrX",
        "Dzq1bEKbcWjv",
        "xPsyd39RMft3",
        "PksOwXC9Qns_",
        "qhC0y92noNJ2",
        "mjYQH4eY3I3M",
        "dDKiBCmQWObS",
        "gMvNlMtO7r0e",
        "lmuuoisNUQiF",
        "kDdZX7c-UR4V",
        "lPigvgBtVzgu",
        "Kf5YERvDzv_4",
        "dRzCYXiaTPQF",
        "zeEmjVWpxEGI",
        "GVfY-oqqcr1J",
        "TBTsD7K-fD-w",
        "9nPMJdwSFRhF",
        "-sHTEDnOJfvu",
        "CgphdK-UBB7m",
        "miZLVeFiCDnn",
        "6_446lyyEco4",
        "9tv47SFn-RyP",
        "L7xjTtrHAcMU",
        "yHSy9w-PDnFA",
        "cHX_vx4X9arZ",
        "hq1TJLOZPlPx",
        "Z8VZq7echI7Z",
        "ONF3Km1chvZJ",
        "VgptEH_Tjr8w",
        "kZGmFoyOMBN-",
        "UUUjJnLJpAoX",
        "maH1DicGA3EV",
        "Bi8mW9B_rE2t",
        "_GaEjbmAuQ1_",
        "1g-UHzXuMg_9",
        "fF0yC0GKLqA2",
        "dSRYJivP0SKW",
        "BSjRQViwsEnK",
        "5fIiE8oZqrdK",
        "E3cB1dMcrgOa",
        "QepSeeheuXsv",
        "JFnZDq4vwdmm",
        "5FiUoaQgUM02",
        "ixSjGW42X5Rh",
        "gOjFFs0TtAH9",
        "vzaHDV-WvD0j",
        "c6fvEMq6CAhx",
        "fhNRwrtLcwb3",
        "uGqkXHsor4ZJ"
      ],
      "authorship_tag": "ABX9TyNsBCY4/YaFEbD1toUC+8uE",
      "include_colab_link": true
    },
    "kernelspec": {
      "name": "python3",
      "display_name": "Python 3"
    },
    "language_info": {
      "name": "python"
    }
  },
  "cells": [
    {
      "cell_type": "markdown",
      "metadata": {
        "id": "view-in-github",
        "colab_type": "text"
      },
      "source": [
        "<a href=\"https://colab.research.google.com/github/Felhaba/Math_Programming_Yandex_OZON/blob/main/DifferentialEquations.ipynb\" target=\"_parent\"><img src=\"https://colab.research.google.com/assets/colab-badge.svg\" alt=\"Open In Colab\"/></a>"
      ]
    },
    {
      "cell_type": "markdown",
      "source": [
        "## Week 1"
      ],
      "metadata": {
        "id": "hgdWKLWQcRrX"
      }
    },
    {
      "cell_type": "markdown",
      "source": [
        "**Runge-Kutta Methods** \\n\n",
        "The Euler method for solving the differential equation $dy/dx=f(x,y)$ can be rewritten in the form\n",
        "$$k_1 = \\Delta x f(x_n, y_n), \\space y_{n+1} = y_n + k_1,$$\n",
        "and is called a first-order Runge-Kutta method.  More accurate second-order Runge-Kutta methods have the form\n",
        "$$k_1 = \\Delta x f(x_n, y_n), \\space k_2 = \\Delta xf(x_n + \\alpha \\Delta x, y_n + \\beta k_1), \\space y_{n+1} = y_n + ak_1 + bk_2$$\n",
        "Some analysis (not shown here) on the second-order Runge Kutta methods results in the constraints\n",
        "$$a+b=1, \\space \\alpha b = \\beta b=1/2.$$"
      ],
      "metadata": {
        "id": "hweWKrsKcoTH"
      }
    },
    {
      "cell_type": "markdown",
      "source": [
        "A **first-order ode is separable** if it can be written in the form\n",
        "\n",
        "$$g(y) \\dfrac{dy}{dx} = f(x), \\space y(x_0) = y_0,$$\n",
        "\n",
        "where the function $g(y)$ is independent of $x$ and $f(x)$ is independent of $y$.\n",
        "\n",
        "A simpler procedure that yields the same result is to treat $dy/dx$ as a fraction. Multiplying the differential equation by $dx$ results directly in\n",
        "\n",
        "$$g(y) dy = f(x)dx,$$\n",
        "\n",
        "which is what we call a separated equation with a function of $y$ times dy on one side, and a function of $x$ times $dx$ on the other side. This separated equation can then be integrated directly over $y$ and $x$."
      ],
      "metadata": {
        "id": "TPrZz5SzLxHX"
      }
    },
    {
      "cell_type": "markdown",
      "source": [
        "A **linear first-order differential equation** with initial condition can be written in standard form as $\\frac{dy}{dx} + p(x)y = g(x), \\space y(x_0) = y_0.$\n",
        "\n",
        "All linear first-order differential equations can be integrated using an integrating factor $\\mu$. We multiply the differential equation by the yet unknown function $\\mu = \\mu(x)$ to obtain\n",
        "$$\\mu(x) \\left[\\frac{dy}{dx} + p(x) y \\right] = \\mu(x)g(x)$$\n",
        "\n",
        "The unknown function $\\mu(x)$ is called an integrating factor because the resulting differential equation can be directly integrated:\n",
        "$$\\mu(x) = \\exp \\left( \\int\\limits_{x_0}^x p(x)dx \\right)$$\n",
        "\n",
        "Given the above, the first-order linear equation is solved as:\n",
        "$$y(x) = \\frac1{\\mu(x)} \\left( y_o + \\int\\limits_{x_0}^x \\mu(x)g(x) dx \\right)$$"
      ],
      "metadata": {
        "id": "8G4AVDKaztUt"
      }
    },
    {
      "cell_type": "markdown",
      "source": [
        "<a id ='Week1_Task1'></a>\n",
        "### Task 1\n",
        "\n"
      ],
      "metadata": {
        "id": "Dzq1bEKbcWjv"
      }
    },
    {
      "cell_type": "markdown",
      "source": [
        "Write down the second-order Runge-Kutta methods corresponding to  (i) $a=b$, and (ii) $a=0$.  These specific second-order Runge-Kutta methods are called the modified Euler method  and the midpoint method, respectively."
      ],
      "metadata": {
        "id": "Sx7BLzPjzo8a"
      }
    },
    {
      "cell_type": "markdown",
      "source": [
        "**(i)** $\\left\\{\n",
        "    \\begin{array}\\\\\n",
        "      a + b = 1 \\\\\n",
        "      a = b = \\dfrac12 \\\\\n",
        "      \\alpha = \\beta = 1\n",
        "    \\end{array}\n",
        "  \\right. $\n",
        "\n",
        "$k_1 = \\Delta x f(x_n, y_n), \\space k_2 = \\Delta x f(x_n + \\Delta x, y_n + k_1), \\space y_{n+1} = y_n + \\dfrac12 (k_1 + k_2)$"
      ],
      "metadata": {
        "id": "G7sAAL6GckZ3"
      }
    },
    {
      "cell_type": "markdown",
      "source": [
        "**(ii)** $\\left\\{\n",
        "    \\begin{array}\\\\\n",
        "      a + b = 1 \\\\\n",
        "      a = 0; b = 1 \\\\\n",
        "      \\alpha = \\beta = \\dfrac12\n",
        "    \\end{array}\n",
        "  \\right. $\n",
        "\n",
        "$k_1 = \\Delta x f(x_n, y_n), \\space k_2 = \\Delta x f(x_n + \\dfrac12 \\Delta x, y_n + \\dfrac12 k_1), \\space y_{n+1} = y_n + k_2$"
      ],
      "metadata": {
        "id": "F5LU52nVh3_g"
      }
    },
    {
      "cell_type": "markdown",
      "source": [
        "### Task 2"
      ],
      "metadata": {
        "id": "xPsyd39RMft3"
      }
    },
    {
      "cell_type": "markdown",
      "source": [
        "Put the following equation in separated form. Do not integrate.\n",
        "1. $\\dfrac{dy}{dx} = \\dfrac{x^2y - 4y}{x+4}$\n",
        "2. $\\dfrac{dy}{dx} = \\dfrac{xy}{(x+1)(y+1)}$\n",
        "3. $\\dfrac{d\\theta}{dt} + \\sin\\theta = 0$\n"
      ],
      "metadata": {
        "id": "T_yc554xMhJh"
      }
    },
    {
      "cell_type": "markdown",
      "source": [
        "1. $\\dfrac{dy}{dx} = \\dfrac{x^2y - 4y}{x+4} \\Rightarrow dy = dx \\cdot y \\cdot \\dfrac{x^2-4}{x+4} \\Rightarrow \\dfrac{dy}{y} = \\dfrac{x^2-4}{x+4}dx$\n"
      ],
      "metadata": {
        "id": "FCU_NjowNU_w"
      }
    },
    {
      "cell_type": "markdown",
      "source": [
        "2. $\\dfrac{dy}{dx} = \\dfrac{xy}{(x+1)(y+1)} \\Rightarrow \\dfrac{y+1}{y}dy = \\dfrac{x}{x+1}dx$"
      ],
      "metadata": {
        "id": "KygIiXxVO4vR"
      }
    },
    {
      "cell_type": "markdown",
      "source": [
        "3. $\\dfrac{d\\theta}{dt} + \\sin\\theta \\Rightarrow -dt = \\dfrac{d\\theta}{\\sin\\theta}$"
      ],
      "metadata": {
        "id": "110dLVDRP3Bs"
      }
    },
    {
      "cell_type": "markdown",
      "source": [
        "### Task 3"
      ],
      "metadata": {
        "id": "PksOwXC9Qns_"
      }
    },
    {
      "cell_type": "markdown",
      "source": [
        "Solve the following separable first-order equations.\n",
        "\n",
        "1. $\\dfrac{dy}{dx} = 4x \\sqrt{y}, \\space \\mbox{with } y(0) = 1$\n",
        "2. $\\dfrac{dx}{dt} = x(1-x), \\space \\mbox{with } x(0) = x_0 \\mbox{ and } 0 \\leq x_0 \\leq 1$"
      ],
      "metadata": {
        "id": "o7OXdSgMQrU_"
      }
    },
    {
      "cell_type": "markdown",
      "source": [
        "1. $\\dfrac{dy}{dx} = 4x \\sqrt{y}, \\space \\mbox{with } y(0) = 1$\n",
        "\n",
        "$\\int_\\limits{1}^y \\dfrac{dy}{\\sqrt{y}} = \\int_\\limits{0}^x 4x dx \\Rightarrow 2y^{1/2} - 2 = 2x^2 \\Rightarrow y = (x^2+1)^2$"
      ],
      "metadata": {
        "id": "Jm17SwxneXy7"
      }
    },
    {
      "cell_type": "markdown",
      "source": [
        "2. $\\dfrac{dx}{dt} = x(1-x), \\space \\mbox{with } x(0) = x_0 \\mbox{ and } 0 \\leq x_0 \\leq 1$\n",
        "\n",
        "$\\int_\\limits{x_0}^x \\dfrac{dx}{x(1-x)} = \\int_\\limits{0}^t dt \\Rightarrow \\int_\\limits{x_0}^x \\dfrac{dx}{x} + \\int_\\limits{x_0}^x \\dfrac{dx}{1-x} = \\int_\\limits{0}^t dt \\Rightarrow \\ln\\frac{x}{x_0} - \\ln\\frac{1-x}{1-x_0} = t$\n",
        "\n",
        "Let's derive now the solution as $y(t)$: $\\ln\\frac{x}{x_0} - \\ln\\frac{1-x}{1-x_0} = t \\Rightarrow \\ln\\frac{x(1-x_0)}{x_0(1-x)} = t \\Rightarrow \\dfrac{x(1-x_0)}{x_0 (1-x)} = e^t \\Rightarrow x(1-x_0 + e^t x_0) = e^t x_0 \\Rightarrow x = \\dfrac{e^t x_o}{1- x_0 + e^t x_0} \\Rightarrow x = \\dfrac{x_0}{(...)e^{-t}} \\Rightarrow x = \\dfrac{x_0}{x_0 + e^{-t}(1-x_0)}$"
      ],
      "metadata": {
        "id": "2JRHZQy7i2iZ"
      }
    },
    {
      "cell_type": "markdown",
      "source": [
        "### Task 4"
      ],
      "metadata": {
        "id": "qhC0y92noNJ2"
      }
    },
    {
      "cell_type": "markdown",
      "source": [
        "1. The solution of $y' = \\sqrt{xy}$ with initial value $y(1) = 0$. Find $y = f(x)$"
      ],
      "metadata": {
        "id": "nMgsrmPOoOf2"
      }
    },
    {
      "cell_type": "markdown",
      "source": [
        "$\\dfrac{dy}{dx} = \\sqrt{x} \\cdot \\sqrt{y} \\Rightarrow$\n",
        "\n",
        "$\\int\\limits_{0}^{y} \\dfrac{dy}{\\sqrt{y}} = \\int\\limits_{1}^{x} \\dfrac{dx}{\\sqrt{x}} \\Rightarrow 2\\sqrt{y} = \\frac23 x^{/2} - \\frac23 \\Rightarrow y(x) = \\dfrac19 (x^{3/2} - 1)^2$"
      ],
      "metadata": {
        "id": "sBPcys4toekb"
      }
    },
    {
      "cell_type": "markdown",
      "source": [
        "2. The solution of $y^2 - xy'$ with initial value $y(1) = 1$. Find $y = f(x)$"
      ],
      "metadata": {
        "id": "ZLAtX1lKpaKU"
      }
    },
    {
      "cell_type": "markdown",
      "source": [
        "$y^2 - x \\dfrac{dy}{dx} = 0 \\Rightarrow y^2 = x \\dfrac{dy}{dx} \\Rightarrow \\int\\limits_{1}^{x} \\dfrac{dx}{x} = \\int\\limits_{1}^{y} \\dfrac{dy}{y}$"
      ],
      "metadata": {
        "id": "GU6u2npapqAZ"
      }
    },
    {
      "cell_type": "markdown",
      "source": [
        "$\\ln x = 1 - \\dfrac1y \\Rightarrow y = \\dfrac{1}{1- \\ln x}$"
      ],
      "metadata": {
        "id": "tmfrzGqKqK9w"
      }
    },
    {
      "cell_type": "markdown",
      "source": [
        "3. The solution of $y' = y \\sin x$ with initial value $y(\\pi /2) = 1$. Find $y = f(x)$"
      ],
      "metadata": {
        "id": "azoyKfjGsLEc"
      }
    },
    {
      "cell_type": "markdown",
      "source": [
        "$\\dfrac{dy}{dx} = -y \\sin x \\Rightarrow \\int\\limits_{1}^{y} \\dfrac{dy}{y} = \\int\\limits_{\\pi / 2}^{x} -\\sin x dx$"
      ],
      "metadata": {
        "id": "F9X8aOo-s2bf"
      }
    },
    {
      "cell_type": "markdown",
      "source": [
        "$\\ln y = \\cos x \\Rightarrow y = e^{\\cos x}$"
      ],
      "metadata": {
        "id": "-xeUr2FntLjJ"
      }
    },
    {
      "cell_type": "markdown",
      "source": [
        "### Task 5"
      ],
      "metadata": {
        "id": "mjYQH4eY3I3M"
      }
    },
    {
      "cell_type": "markdown",
      "source": [
        "Write the following linear equations in standard form: $\\frac{dy}{dx} + p(x)y = g(x)$\n",
        "\n",
        "1. $x \\dfrac{dx}{dy} + y = \\sin x$\n",
        "2. $\\dfrac{dx}{dy} = x - y$"
      ],
      "metadata": {
        "id": "z6gB73X83KVq"
      }
    },
    {
      "cell_type": "markdown",
      "source": [
        "1. $x \\dfrac{dx}{dy} + y = \\sin x \\Rightarrow \\dfrac{dx}{dy} + \\dfrac{y}{x} = \\dfrac{\\sin x}{x}$"
      ],
      "metadata": {
        "id": "HarhOA2D39V8"
      }
    },
    {
      "cell_type": "markdown",
      "source": [
        "2. $\\dfrac{dx}{dy} = x - y \\Rightarrow \\dfrac{dx}{dy} + y = x$"
      ],
      "metadata": {
        "id": "y-L1QMjW4OPe"
      }
    },
    {
      "cell_type": "markdown",
      "source": [
        "Consider the nonlinear differential equation $dx/dt = x(1 − x)$. By defining $z = 1/x$, show that the resulting differential equation for $z$ is linear."
      ],
      "metadata": {
        "id": "_mXWuwze4bGt"
      }
    },
    {
      "cell_type": "markdown",
      "source": [
        "1. Let's find $x(z)$ and $dx$: $x = \\dfrac1z$ & $dz = - \\dfrac{dx}{x^2} \\Rightarrow dx = - \\dfrac{dz}{z^2}$\n",
        "2. By substituting $x$ with $z$ one gets: $\\dfrac{dz}{dt} = -z + 1 \\Rightarrow \\dfrac{dz}{dt} + z = 1$"
      ],
      "metadata": {
        "id": "DZE4Q8Lt6JaU"
      }
    },
    {
      "cell_type": "markdown",
      "source": [
        "### Task 6"
      ],
      "metadata": {
        "id": "dDKiBCmQWObS"
      }
    },
    {
      "cell_type": "markdown",
      "source": [
        "Solve the following linear odes.\n",
        "1. $\\dfrac{dy}{dx} = x - y, \\space y(0) = -1$\n",
        "2. $\\dfrac{dy}{dx} = 2x(1-y), \\space y(0) = 0$"
      ],
      "metadata": {
        "id": "ft0Mi31zWP6o"
      }
    },
    {
      "cell_type": "markdown",
      "source": [
        "$\\dfrac{dy}{dx} = x - y, \\space y(0) = -1$\n",
        "\n",
        "1. Write down the equation in the standartized form: $\\dfrac{dy}{dx} + y = x$\n",
        "2. Find the integrating factor: $\\mu(x) = \\exp \\left( \\int\\limits_{x_0}^{x}p(x)dx \\right) = \\exp \\left( \\int\\limits_{0}^{x} 1 \\cdot dx \\right) = e^x$\n",
        "3. Rewrite the ODE subject to integrating factor: $\\dfrac{d}{dx}[e^x y] = x e^x$\n",
        "3. Intregrate over $[0, x]$: $\\int\\limits_{0}^{x} d[e^x y(x)]  = \\int\\limits_{0}^{x} xe^x dx \\Rightarrow e^x y + 1 = (xe^x - e^x) \\bigg|_{0}^x \\Rightarrow \\boxed{y = x-1}$"
      ],
      "metadata": {
        "id": "Pld2t4lFWjp3"
      }
    },
    {
      "cell_type": "markdown",
      "source": [
        "$\\dfrac{dy}{dx} = 2x(1-y), \\space y(0) = 0$\n",
        "\n",
        "1. Write down the equation in the standartized form: $\\dfrac{dy}{dx} + 2xy = 2x$\n",
        "2. Find the integrating factor: $\\mu(x) = \\exp \\left( \\int\\limits_{x_0}^{x}p(x)dx \\right) = \\exp \\left( \\int\\limits_{0}^{x} 2x dx \\right) = e^{x^2}$\n",
        "3. Rewrite the ODE subject to integrating factor: $\\dfrac{d}{dx}[e^{x^2} y] = 2x e^{x^2}$\n",
        "3. Intregrate over $[0, x]$: $\\int\\limits_{0}^{x} d[e^{x^2} y(x)]  = \\int\\limits_{0}^{x} 2x e^{x^2} dx \\Rightarrow 2x e^{x^2}y =  e^{x^2}\\bigg|_{0}^x \\Rightarrow e^{x^2}y = e^{x^2} - 1 \\Rightarrow \\boxed{y = 1 - e^{-x^2}}$"
      ],
      "metadata": {
        "id": "wp3GLqn-ZJTT"
      }
    },
    {
      "cell_type": "markdown",
      "source": [
        "### Task 7"
      ],
      "metadata": {
        "id": "gMvNlMtO7r0e"
      }
    },
    {
      "cell_type": "markdown",
      "source": [
        "1. The solution of $(1+x^2)y' + 2xy =2x$ with initial value $y(0) = 0$ is given by"
      ],
      "metadata": {
        "id": "rrqE51SX7uxI"
      }
    },
    {
      "cell_type": "markdown",
      "source": [
        "$\\dfrac{dy}{dx}[1+x^2] + 2xy = 2x \\Rightarrow \\dfrac{dy}{dx} + \\dfrac{2x}{1+x^2}y = \\dfrac{2x}{1+x^2}$\n",
        "\n",
        "$\\mu(x) = \\exp \\left( \\int\\limits_0^x \\dfrac{2x}{1+x^2}dx \\right) = \\exp \\left( \\ln (1+x^2) \\right) = 1+x^2$\n",
        "\n",
        "$\\int\\limits_0^x d[(1+x^2)y] = \\int\\limits_0^x (1+x^2) \\dfrac{2x}{1+x^2} dx \\Rightarrow (1+x^2)y = x^2 \\Rightarrow \\boxed{y = \\dfrac{x^2}{1+x^2}}$"
      ],
      "metadata": {
        "id": "gVupeEq177oe"
      }
    },
    {
      "cell_type": "markdown",
      "source": [
        "2. The solution of $\\dfrac{dy}{dx}x^2 = 1 - 2xy$ with initial value $y(1) = 2$ is given by"
      ],
      "metadata": {
        "id": "kai3bILb9JE1"
      }
    },
    {
      "cell_type": "markdown",
      "source": [
        "$\\dfrac{dy}{dx}x^2 = 1 - 2xy \\Rightarrow \\dfrac{dy}{dx} + \\dfrac{2}{x}y = \\dfrac{1}{x^2}$\n",
        "\n",
        "$\\mu(x) = \\exp \\left(2\\int\\limits_1^x \\dfrac{dx}{x} \\right) = \\exp \\left( 2 \\ln x - 2 \\ln 1 \\right) = \\dfrac{x^2}{2}$\n",
        "\n",
        "$\\int\\limits_1^x d \\left[ \\dfrac{x^2}{2} y \\right] = \\int\\limits_1^x d \\left[ \\dfrac{x^2}{2} \\cdot \\dfrac{1}{x^2} \\right]$\n",
        "\n",
        "$\\dfrac{x^2}{2}y - \\dfrac22 = \\dfrac{x}{2} - \\dfrac12 \\Rightarrow x^2y - 2 = x - 1 \\Rightarrow \\boxed{y = \\dfrac{x+1}{x^2}}$"
      ],
      "metadata": {
        "id": "sIbWXnqZ9b-g"
      }
    },
    {
      "cell_type": "markdown",
      "source": [
        "3. The solution of $\\dfrac{dy}{dx} = \\lambda y = a$ with initial value $y(0) = 0$ and $\\lambda > 0$ is given by"
      ],
      "metadata": {
        "id": "cv6B3QHV_I4h"
      }
    },
    {
      "cell_type": "markdown",
      "source": [
        "$\\dfrac{dy}{dx} + \\lambda y = a \\cdot x^0$\n",
        "\n",
        "$\\mu (x) = \\exp \\left( \\int\\limits_0^x \\lambda dx \\right) = e^{\\lambda x - 1}$\n",
        "\n",
        "$\\int\\limits_0^x d \\left[ e^{\\lambda x - 1} \\right] = \\int\\limits_0^x a e^{\\lambda x - 1} dx \\Rightarrow e^{\\lambda x - 1}y = \\dfrac{a}{x} e^{\\lambda x - 1} \\bigg|_{0}^x$\n",
        "\n",
        "$e^{\\lambda x - 1}y = \\dfrac{a}{x} e^{\\lambda x - 1} - \\dfrac{a}{x} e^{-1} \\Rightarrow \\boxed{y = \\dfrac{a}{x} \\left( 1 - e^{-\\lambda x}\\right)}$"
      ],
      "metadata": {
        "id": "K6fRXuCi_XhZ"
      }
    },
    {
      "cell_type": "markdown",
      "source": [
        "## Week 2"
      ],
      "metadata": {
        "id": "lmuuoisNUQiF"
      }
    },
    {
      "cell_type": "markdown",
      "source": [
        "**The principle of superposition**\n",
        "\n",
        "Consider the homogeneous linear second-order ode given by\n",
        "$$\\ddot{x} + p(t)\\dot{x} + q(t)x = 0;$$\n",
        "\n",
        "and suppose that $x = X_1(t)$ and $x = X_2(t)$ are solutions. We consider a linear combination of $X_1$ and $X_2$ by letting:\n",
        "$$x = c_1 X_1(t) + c_2 X_2(t)$$\n",
        "with $c_1$ and $c_2$ constants. The principle of superposition states that $x$ is also a solution to the\n",
        "homogeneous ode. To prove this, we compute\n",
        "\n",
        "$$\\ddot{x} + p(t)\\dot{x} + q(t)x = (c_1 \\ddot{X_1} + c_2 \\ddot{X_2}) + p (c_1 \\dot{X_1} + c_2 \\dot{X_2}) + q (c_1 X_1 + c_2 X_2) = c_1 (\\ddot{X_1} + p\\dot{X_1} + q X_1) + c_2 (\\ddot{X_2} + p\\dot{X_2} + q X_2) = c_1 \\times 0 + c_2 \\times 0 = 0,$$\n",
        "\n",
        "since $X_1$ and $X_2$ were assumed to be solutions of the homogeneous ode. We have therefore shown that any linear combination of solutions to the homogeneous linear second-order ode is also a solution."
      ],
      "metadata": {
        "id": "FhIQThHvxxM5"
      }
    },
    {
      "cell_type": "markdown",
      "source": [
        "**Homogeneous second-order ode with constant coefficients**\n",
        "\n",
        "We now study solutions of the homogeneous constant-coefficient ode, written as\n",
        "$$a\\ddot{x} + b\\dot{x} + cx = 0,$$\n",
        "\n",
        "with $a$, $b$, and $c$ constants. Our solution method finds two linearly independent solutions, multiplies each of these solutions by a constant, and adds them. The two free constants are then determined from initial values on $x$ and $\\dot{x}$.\n",
        "Because of the differential properties of the exponential function, a natural ansatz,\n",
        "or educated guess, for the form of the solution is $x = e^{rt}$, where $r$ is a constant to be determined. Successive differentiation results in $\\dot{x}= re^{rt}$ and $\\ddot{x}=r^2 e^{rt}$, and substitution into the ode yields\n",
        "$$ar^2 e^{rt} + br e^{rt} + c e^{rt} = 0.$$\n",
        "\n",
        "Our choice of exponential function is now rewarded by the explicit cancelation of $e^{rt}$. The result is a quadratic equation for the unknown constant $r$:\n",
        "$$ar^2 + br + c = 0$$\n",
        "Our ansatz has thus converted a differential equation for $x$ into an algebraic equation for $r$. This algebraic equation is called the *characteristic equation* of the ode. Using the quadratic formula, the two solutions of the characteristic equation are given by\n",
        "$$r_{\\pm} = \\frac{-b \\pm \\sqrt{b^2-4ac}}{2a}$$"
      ],
      "metadata": {
        "id": "B7TT8qc_xd7o"
      }
    },
    {
      "cell_type": "markdown",
      "source": [
        "### Task 1"
      ],
      "metadata": {
        "id": "kDdZX7c-UR4V"
      }
    },
    {
      "cell_type": "markdown",
      "source": [
        "Write the second-order ode $\\ddot{\\theta} + \\dot{\\theta}/q + \\sin\\theta = f \\cos\\omega t$, as a system of two first-order odes."
      ],
      "metadata": {
        "id": "Y8fXjYwXUYKs"
      }
    },
    {
      "cell_type": "markdown",
      "source": [
        "First of all, let's rewrite the equation in the standard form: $\\ddot{\\theta} = f \\cos\\omega t - \\dot{\\theta}/q - \\sin\\theta$\n",
        "\n",
        "$\\left\\{\n",
        "    \\begin{array}\\\\\n",
        "      \\dot{\\theta} = u \\\\\n",
        "      \\dot{u} = f \\cos\\omega t - u/q - \\sin\\theta\n",
        "    \\end{array}\n",
        "  \\right. $"
      ],
      "metadata": {
        "id": "re2pgkJ_U_Nk"
      }
    },
    {
      "cell_type": "markdown",
      "source": [
        "### Task 2"
      ],
      "metadata": {
        "id": "lPigvgBtVzgu"
      }
    },
    {
      "cell_type": "markdown",
      "source": [
        "Write down the second-order Runge-Kutta modified Euler method (predictor-corrector method) for the following system of two first-order odes:\n",
        "$$\\dot{x} = f(t, x, y), \\space \\dot{y} = g(t, x, y)$$"
      ],
      "metadata": {
        "id": "qKhKajxnV5G7"
      }
    },
    {
      "cell_type": "markdown",
      "source": [
        "For the method explanation see [Week 1, Task 1](#Week1_Task1).\n",
        "\n",
        "$\\left\\{\n",
        "    \\begin{array}\\\\\n",
        "      \\dot{x} = f(t, x, y) \\\\\n",
        "      \\dot{y} = g(t, x, y)\n",
        "    \\end{array}\n",
        "  \\right. $\n",
        "\n",
        "For $x$ parameters $k$ are (the same logic applies to $y$'s ):\n",
        "\n",
        "$\\left\\{\n",
        "    \\begin{array}\\\\\n",
        "      k_1 = \\Delta t \\cdot f(t_n, x_n, y_n); \\space l_1 = \\Delta t \\cdot g(t_n, x_n, y_n)\\\\\n",
        "      k_2 = \\Delta t \\cdot f(t_n + \\alpha\\Delta t, x_n + \\beta k_1, y_n + \\beta l_1); \\space l_2 = \\Delta t \\cdot g(t_n + \\alpha\\Delta t, x_n + \\beta k_1, y_n + \\beta l_1)\n",
        "    \\end{array}\n",
        "  \\right. $\n",
        "\n",
        "  $$\\boxed{x_{n+1} = x_n + \\frac12(k_1 + k_2), \\space\n",
        "  y_{n+1} = y_n + \\frac12(l_1 + l_2)}$$"
      ],
      "metadata": {
        "id": "lYgpJ1hFWMOk"
      }
    },
    {
      "cell_type": "markdown",
      "source": [
        "### Task 3"
      ],
      "metadata": {
        "id": "Kf5YERvDzv_4"
      }
    },
    {
      "cell_type": "markdown",
      "source": [
        "Consider the inhomogeneous linear second-order ode given by\n",
        "$$\\ddot{x} + p(t)\\dot{x} + q(t)x = g(t);$$\n",
        "\n",
        "and suppose that $x = x_h (t)$ is a solution of the **homo**geneous equation and $x = x_p (t)$ is a solution of the **inhomo**geneous equation. Prove that $x = x_h (t) + x_p (t)$ is a solution of the **inhomo**geneous equation."
      ],
      "metadata": {
        "id": "ljV7hhHdzzNw"
      }
    },
    {
      "cell_type": "markdown",
      "source": [
        "$$(\\ddot{x}_h+\\ddot{x}_p) + p(\\dot{x}_h+\\dot{x}_p) + q(x_h + x_p) = (\\ddot{x}_h + p\\dot{x}_h + qx_h) + (\\ddot{x}_p + p\\dot{x}_p + qx_p) = 0 + g(t) = g(t);$$"
      ],
      "metadata": {
        "id": "D4LiMmQrI5se"
      }
    },
    {
      "cell_type": "markdown",
      "source": [
        "### Task 4"
      ],
      "metadata": {
        "id": "dRzCYXiaTPQF"
      }
    },
    {
      "cell_type": "markdown",
      "source": [
        "Show that $X_1(t) = \\exp(\\alpha t)$ and $X_2(t) = \\exp(\\beta t)$ have a nonzero Wronskian for all $t$ provided $\\alpha \\neq \\beta$"
      ],
      "metadata": {
        "id": "bSK7j2e9TOVX"
      }
    },
    {
      "cell_type": "markdown",
      "source": [
        "Wronskian for the given solution is defined as\n",
        "\n",
        "$\\begin{vmatrix}\n",
        "\\exp(\\alpha t) & \\exp(\\beta t)\\\\\n",
        "\\alpha\\exp(\\alpha t) & \\beta\\exp(\\beta t)\n",
        "\\end{vmatrix} = \\beta e^{(\\alpha +\\beta)t} - \\alpha e^{(\\alpha +\\beta)t} = [\\beta - \\alpha]e^{(\\alpha +\\beta)t} \\neq 0$, when $\\alpha \\neq \\beta$"
      ],
      "metadata": {
        "id": "Qslw_BjiTvmp"
      }
    },
    {
      "cell_type": "markdown",
      "source": [
        "### Task 5"
      ],
      "metadata": {
        "id": "zeEmjVWpxEGI"
      }
    },
    {
      "cell_type": "markdown",
      "source": [
        "For the following differential equations, determine the roots of the characteristic equation.\n",
        "\n",
        "**(a)** $\\ddot{x} - x = 0$\n",
        "\n",
        "$x(t) = e^{rt}; \\space \\ddot{x} = r^2 e^{rt} \\Rightarrow r^2 - 1 \\Rightarrow \\boxed{r = \\pm 1}$\n",
        "\n",
        "**(b)** $\\ddot{x} + x = 0$\n",
        "\n",
        "$r^2 + 1 = 0 \\Rightarrow \\boxed{r = \\pm i}$\n",
        "\n",
        "**(c)** $\\ddot{x} - 2\\dot{x} + x = 0$\n",
        "\n",
        "$r^2 - 2r + 1 = 0 \\Rightarrow (r-1)^2 \\Rightarrow \\boxed{r = 1}$"
      ],
      "metadata": {
        "id": "xjEoUQKJxGYH"
      }
    },
    {
      "cell_type": "markdown",
      "source": [
        "### Task 6"
      ],
      "metadata": {
        "id": "GVfY-oqqcr1J"
      }
    },
    {
      "cell_type": "markdown",
      "source": [
        "Solve the following initial value problem.\n",
        "\n",
        "$\\ddot{x} + 4\\dot{x} + 3x = 0; \\space x(0) = 1, \\space \\dot{x}(0) = 0$"
      ],
      "metadata": {
        "id": "rCIuW9Ezcsug"
      }
    },
    {
      "cell_type": "markdown",
      "source": [
        "At first one needs to form a characteristic equation by assumming $x(t) = e^{rt}$:\n",
        "$$r^2 + 4r + 3 = 0$$\n",
        "\n",
        "This equation has $2$-distinct roots: $\\boxed{r_1 = -3}$ and $\\boxed{r_2 = -1}$\n",
        "\n",
        "The general solution is $X(t) = Ae^{-3t} + Be^{-t}$. Applying the initial conditions one finds that $A = -0.5$ and $B = 1.5$.\n",
        "$$X(t) = -0.5e^{-3t} + 1.5e^{-t} = 1.5e^{-t}(1 - 1/3 e^{-2t})$$"
      ],
      "metadata": {
        "id": "e9XSQSv3c-rQ"
      }
    },
    {
      "cell_type": "markdown",
      "source": [
        "### Task 7"
      ],
      "metadata": {
        "id": "TBTsD7K-fD-w"
      }
    },
    {
      "cell_type": "markdown",
      "source": [
        "Find the  solution of $\\ddot{x} - x = 0; \\space x(0) = x_0, \\space \\dot{x}(0) = u_0$.\n"
      ],
      "metadata": {
        "id": "nHB58AZNfc1A"
      }
    },
    {
      "cell_type": "markdown",
      "source": [
        "At first one needs to form a characteristic equation by assumming $x(t) = e^{rt}$:\n",
        "$$r^2 - 1 = 0 \\Rightarrow \\boxed{r = \\pm 1}$$\n",
        "\n",
        "The general solution is $X(t) = Ae^{-t} + Be^{t}$. Applying the initial conditions one finds that $A = \\dfrac{x_0 + u_0}{2}$ and $B = \\dfrac{x_0 - u_0}{2}$.\n",
        "$$X(t) = \\dfrac{x_0 + u_0}{2} e^{-t} + \\dfrac{x_0 - u_0}{2} e^{t} = x_0 \\left( \\dfrac{e^{-t} + e^t}{2} \\right) + u_0 \\left( \\dfrac{e^{-t} - e^t}{2} \\right) = \\boxed{x_0 \\cosh t + u_0 \\sinh t}$$"
      ],
      "metadata": {
        "id": "UsydO2mlft2g"
      }
    },
    {
      "cell_type": "markdown",
      "source": [
        "### Task 8"
      ],
      "metadata": {
        "id": "9nPMJdwSFRhF"
      }
    },
    {
      "cell_type": "markdown",
      "source": [
        "Solve $\\ddot{x} - 2\\dot{x} +5x = 0; \\space x(0) = 1, \\space \\dot{x}(0) = 0$"
      ],
      "metadata": {
        "id": "LWF9aprtFSrr"
      }
    },
    {
      "cell_type": "markdown",
      "source": [
        "At first one needs to form a characteristic equation by assumming $x(t) = e^{rt}$:\n",
        "$$r^2 - 2r + 5 = 0 \\Rightarrow \\boxed{r = 1 \\pm 2i}$$\n",
        "\n",
        "The solution based on it is: $Z(t) = e^t e^{i2t} = e^t(\\cos 2t + i \\sin 2t); \\space \\bar{Z}(t) = e^t e^{-i2t} = e^t(\\cos 2t - i \\sin 2t)$.\n",
        "\n",
        "Applying the principle of superposition, any linear combination of $Z$ and $\\bar{Z}$ ̄is also a solu-\n",
        "tion to the second-order ode, and we can form two different linear combinations of $Z(t)$ and $Z(t)$ that are real, namely $X_1(t) = Re\\{Z(t)\\}$ and $X_2(t) = Im\\{Z(t)\\}$.\n",
        "\n",
        "The general solution is $X(t) = e^t (A \\cos 2t + B \\sin 2t)$. Applying the initial conditions one finds that $A = 1$ and $B = - 1/2$.\n",
        "\n",
        "$$\\boxed{X(t) = e^t \\cos 2t - \\frac12 \\sin t}$$"
      ],
      "metadata": {
        "id": "poVp4AyNFewK"
      }
    },
    {
      "cell_type": "markdown",
      "source": [
        "### Task 9"
      ],
      "metadata": {
        "id": "-sHTEDnOJfvu"
      }
    },
    {
      "cell_type": "markdown",
      "source": [
        "Solve $\\ddot{x} + x = 0; \\space x(0) = x_0, \\space \\dot{x}(0) = u_0$"
      ],
      "metadata": {
        "id": "9A805-H-JjPX"
      }
    },
    {
      "cell_type": "markdown",
      "source": [
        "At first one needs to form a characteristic equation by assumming $x(t) = e^{rt}$:\n",
        "$$r^2 + 1 = 0 \\Rightarrow \\boxed{r = \\pm i}$$\n",
        "\n",
        "The solution based on it is: $Z(t) = e^{\\pm it} = \\cos t \\pm i \\sin t$.\n",
        "\n",
        "Applying the principle of superposition, any linear combination of $Z$ and $\\bar{Z}$ ̄is also a solu-\n",
        "tion to the second-order ode, and we can form two different linear combinations of $Z(t)$ and $Z(t)$ that are real, namely $X_1(t) = Re\\{Z(t)\\}$ and $X_2(t) = Im\\{Z(t)\\}$.\n",
        "\n",
        "The general solution is $X(t) = A \\cos t + B \\sin t$. Applying the initial conditions one finds that $A = x_0$ and $B = u_0$.\n",
        "\n",
        "$$\\boxed{X(t) = x_0 \\cos t + u_0 \\sin t}$$"
      ],
      "metadata": {
        "id": "X_MMDF1UJqxQ"
      }
    },
    {
      "cell_type": "markdown",
      "source": [
        "### Task 10"
      ],
      "metadata": {
        "id": "CgphdK-UBB7m"
      }
    },
    {
      "cell_type": "markdown",
      "source": [
        "Solve $\\ddot{x} - 2\\dot{x} + x = 0$, with $x(0) = 1$ and $\\dot{x}(0) = 0$"
      ],
      "metadata": {
        "id": "v6tmtcdmBEVO"
      }
    },
    {
      "cell_type": "markdown",
      "source": [
        "At first one needs to form a characteristic equation by assumming $x(t) = e^{rt}$:\n",
        "$$r^2 - 2r + 1 = 0 \\Rightarrow \\boxed{r = 1}$$\n",
        "\n",
        "The solution based on it is: $X(t) = e^t (A + Bt)$. Applying the initial conditions one finds that $A = 1$ and $B = -1$.\n",
        "\n",
        "$$\\boxed{X(t) = e^t (1 - t)}$$"
      ],
      "metadata": {
        "id": "p6e2VOfHBVHn"
      }
    },
    {
      "cell_type": "markdown",
      "source": [
        "### Task 11"
      ],
      "metadata": {
        "id": "miZLVeFiCDnn"
      }
    },
    {
      "cell_type": "markdown",
      "source": [
        "Solve $\\ddot{x} - 3\\dot{x} + 2x = 0$, with $x(0) = 1$ and $\\dot{x}(0) = 0$"
      ],
      "metadata": {
        "id": "vpWpT3wnCJil"
      }
    },
    {
      "cell_type": "markdown",
      "source": [
        "At first one needs to form a characteristic equation by assumming $x(t) = e^{rt}$:\n",
        "$$r^2 - 3r + 2 = 0$$\n",
        "\n",
        "This equation has $2$-distinct roots: $\\boxed{r_1 = 2}$ and $\\boxed{r_2 = 1}$\n",
        "\n",
        "The general solution is $X(t) = Ae^{2t} + Be^{t}$. Applying the initial conditions one finds that $A = -1$ and $B = 2$.\n",
        "$$\\boxed{X(t) = -e^{2t} + 2e^{t} = e^{2t}(-1 + 2 e^{-t})}$$"
      ],
      "metadata": {
        "id": "rGm97i4SCQBW"
      }
    },
    {
      "cell_type": "markdown",
      "source": [
        "### Task 11"
      ],
      "metadata": {
        "id": "qUJZ5alLDBVu"
      }
    },
    {
      "cell_type": "markdown",
      "source": [
        "Solve $\\ddot{x} - 2\\dot{x} + 2x = 0$, with $x(0) = 1$ and $\\dot{x}(0) = 0$"
      ],
      "metadata": {
        "id": "0WsCHrBqDCh1"
      }
    },
    {
      "cell_type": "markdown",
      "source": [
        "At first one needs to form a characteristic equation by assumming $x(t) = e^{rt}$:\n",
        "$$r^2 -2r + 2 = 0 \\Rightarrow \\boxed{r = 1 \\pm i}$$\n",
        "\n",
        "The solution based on it is: $Z(t) = e^t \\cdot e^{\\pm it} = e^t (\\cos t \\pm i \\sin t)$.\n",
        "\n",
        "Applying the principle of superposition, any linear combination of $Z$ and $\\bar{Z}$ ̄is also a solu-\n",
        "tion to the second-order ode, and we can form two different linear combinations of $Z(t)$ and $Z(t)$ that are real, namely $X_1(t) = Re\\{Z(t)\\}$ and $X_2(t) = Im\\{Z(t)\\}$.\n",
        "\n",
        "The general solution is $X(t) = e^t (A \\cos t + B \\sin t)$. Applying the initial conditions one finds that $A = 1$ and $B = -1$.\n",
        "\n",
        "$$\\boxed{X(t) = e^t (\\cos t - \\sin t)}$$"
      ],
      "metadata": {
        "id": "999lL5kdDOpl"
      }
    },
    {
      "cell_type": "markdown",
      "source": [
        "### Task 12"
      ],
      "metadata": {
        "id": "6_446lyyEco4"
      }
    },
    {
      "cell_type": "markdown",
      "source": [
        "Solve $\\ddot{x} + 2\\dot{x} + x = 0$, with $x(0) = 0$ and $\\dot{x}(0) = 1$"
      ],
      "metadata": {
        "id": "MS4aDWBOEco5"
      }
    },
    {
      "cell_type": "markdown",
      "source": [
        "At first one needs to form a characteristic equation by assumming $x(t) = e^{rt}$:\n",
        "$$r^2 + 2r + 1 = 0 \\Rightarrow \\boxed{r = -1}$$\n",
        "\n",
        "The solution based on it is: $X(t) = e^{-t} (A + Bt)$. Applying the initial conditions one finds that $A = 0$ and $B = 1$.\n",
        "\n",
        "$$\\boxed{X(t) = t e^{-t} }$$"
      ],
      "metadata": {
        "id": "uPIQgZAZEco5"
      }
    },
    {
      "cell_type": "markdown",
      "source": [
        "## Week 3"
      ],
      "metadata": {
        "id": "9tv47SFn-RyP"
      }
    },
    {
      "cell_type": "markdown",
      "source": [
        "The inhomogeneous linear second-order ode is given by $$\\ddot{x} + p(t)\\dot{x} + q(t)x = g(t);$$\n",
        "with initial conditions $x(t_0) = x_0$ and $\\dot{x}(t_0) = u_0$. There is a three-step solution method when the inhomogeneous term $g(t) \\neq 0$.\n",
        "\n",
        "**(1)** Solve the homogeneous ode $\\ddot{x} + p(t)\\dot{x} + q(t)x = 0,$ for two independent solutions $x = x_1(t)$ and $x = x_2(t)$, and form a linear superposition to obtain the general solution: $x_h (t) = c_1 x_1(t) + c_2 x_2(t),$ where $c_1$ and $c_2$ are free constants.\n",
        "\n",
        "**(2)** Find a particular solution $x = x_p(t)$ that solves the inhomogeneous ode. A particular solution is most easily found when $p(t)$ and $q(t)$ are constants, and when $g(t)$ is a combination of polynomials, exponentials, sines and cosines.\n",
        "\n",
        "**(3)** Write the general solution of the inhomogeneous ode as the sum of the homogeneous and particular solutions,\n",
        "$$x(t) = x_h(t) + x_p(t)$$"
      ],
      "metadata": {
        "id": "-MYFsHBo-V4_"
      }
    },
    {
      "cell_type": "markdown",
      "source": [
        "### Task 1"
      ],
      "metadata": {
        "id": "L7xjTtrHAcMU"
      }
    },
    {
      "cell_type": "markdown",
      "source": [
        "Solve $\\ddot{x} + 5\\dot{x} + 6x = e^{-t}$, with $x(0) = 0$ and $\\dot{x}(0) = 0$."
      ],
      "metadata": {
        "id": "2ep_PPpAAkw7"
      }
    },
    {
      "cell_type": "markdown",
      "source": [
        "1. At first one needs to form a characteristic equation by assumming $x(t) = e^{rt}$:\n",
        "$$r^2 +5r + 6 = 0 \\Rightarrow \\boxed{r_1 = -3; r_2 = -2}$$\n",
        "The general solution is $X(t) = C_1 e^{-3t} + C_2 e^{-2t}$.\n",
        "2. Solve for the inhomogeneous equation: $X = A e^{-t}$. The resulting equation is $A - 5A + 6A = 1$, with solution $A = 1/2$. The general solution is therefore\n",
        "$$X(t) = C_1 e^{-3t} + C_2 e^{-2t} + \\frac12 e^{-t}$$\n",
        "3. Satisfying the inititial conditions results in the two equations\n",
        "$$\\left\\{\n",
        "    \\begin{array}\\\\\n",
        "      C_1 + C_2 = -\\frac12 \\\\\n",
        "      -3C_1 - 2C_2 = \\frac12\n",
        "    \\end{array}\n",
        "  \\right. $$\n",
        "  The final solution with $C_1 = 1/2$ and $C_2 = -1$ is\n",
        "  $$X(t) = \\frac12 e^{-3t} - e^{-2t} + \\frac12 e^{-t} = \\frac12 e^{-t} (1 - 2e^{-t} + e^{-2t})$$\n"
      ],
      "metadata": {
        "id": "AFONH4aMBBmV"
      }
    },
    {
      "cell_type": "markdown",
      "source": [
        "### Task 2"
      ],
      "metadata": {
        "id": "yHSy9w-PDnFA"
      }
    },
    {
      "cell_type": "markdown",
      "source": [
        "Solve $\\ddot{x} + 5\\dot{x} + 6x = 2e^{-t}$, with $x(0) = 0$ and $\\dot{x}(0) = 0$."
      ],
      "metadata": {
        "id": "0qICte09DpM_"
      }
    },
    {
      "cell_type": "markdown",
      "source": [
        "1. At first one needs to form a characteristic equation by assumming $x(t) = e^{rt}$:\n",
        "$$r^2 +5r + 6 = 0 \\Rightarrow \\boxed{r_1 = -3; r_2 = -2}$$\n",
        "The general solution is $X(t) = C_1 e^{-3t} + C_2 e^{-2t}$.\n",
        "2. Solve for the inhomogeneous equation: $X = A e^{-t}$. The resulting equation is $A - 5A + 6A = 2$, with solution $A = 1$. The general solution is therefore\n",
        "$$X(t) = C_1 e^{-3t} + C_2 e^{-2t} + e^{-t}$$\n",
        "3. Satisfying the inititial conditions results in the two equations\n",
        "$$\\left\\{\n",
        "    \\begin{array}\\\\\n",
        "      C_1 + C_2 + 1 = 0 \\\\\n",
        "      -3C_1 - 2C_2 - 1 = 0\n",
        "    \\end{array}\n",
        "  \\right. $$\n",
        "  The final solution with $C_1 = 1$ and $C_2 = -2$ is\n",
        "  $$X(t) = e^{-3t} - 2e^{-2t} + e^{-t} = e^{-t} (1 - 2e^{-t} + e^{-2t})$$\n"
      ],
      "metadata": {
        "id": "RNyNHcMUDs-q"
      }
    },
    {
      "cell_type": "markdown",
      "source": [
        "### Task 3"
      ],
      "metadata": {
        "id": "cHX_vx4X9arZ"
      }
    },
    {
      "cell_type": "markdown",
      "source": [
        "Solve $\\ddot{x} - 3\\dot{x} - 4x = 2\\cos t$ by trying a\n",
        "\n",
        "**(a)** cosine and sine ansatz;\n",
        "\n",
        "**(b)** an exponential ansatz."
      ],
      "metadata": {
        "id": "7M7OTCJW9ey3"
      }
    },
    {
      "cell_type": "markdown",
      "source": [
        "**(a)** Let's assume $X(t) = A\\cos t + B\\sin t$, then the equiation becomes:\n",
        "$$(-A\\cos t - B\\sin t) - 3 (-A\\sin t + b\\cos t) -4 (A\\cos t + B\\sin t) = 2\\cos t + 0\\sin t$$\n",
        "The system of equiations with the given coefficients is:\n",
        "$$\\left\\{\n",
        "    \\begin{array}\\\\\n",
        "      -A - 3B - 4A = 2 \\\\\n",
        "      -B + 3A - 4B = 0\n",
        "    \\end{array}\n",
        "  \\right. $$\n",
        "The final solution with $A = - 5/17$ and $B = -3/17$ is\n",
        "  $$\\boxed{X(t) = - \\frac{5}{17} \\cos t - \\frac{3}{17}\\sin t}$$\n"
      ],
      "metadata": {
        "id": "EBRZqK8090sQ"
      }
    },
    {
      "cell_type": "markdown",
      "source": [
        "**(b)** using Taylor formula let's rewrite the equiation in the complex form:\n",
        "$$\\ddot{z} - 3\\dot{z} - 4z = 2e^{it}$$\n",
        "As the original equation contains cosine only, the solution is $X(t) = Re\\{z\\}$. Let $z = C e^{it}$, then the equation becomes:\n",
        "$$-C e^{it} - 3Ci e^{it} - 4C e^{it} = 2e^{it} \\Rightarrow -5C - 3Ci = 2$$\n",
        "The final solution with $C = \\frac{-2}{5+3i} = \\frac{-5+3i}{17}$ is\n",
        "$$\\left\\{\n",
        "    \\begin{array}\\\\\n",
        "      z = \\frac{-5+3i}{17} [\\cos t + i\\sin t] \\\\\n",
        "      \\boxed{X = Re\\{z\\} = -\\frac{5}{17}\\cos t - \\frac{3}{17}\\sin t}\n",
        "    \\end{array}\n",
        "  \\right. $$"
      ],
      "metadata": {
        "id": "XAlKZHSe_Kkq"
      }
    },
    {
      "cell_type": "markdown",
      "source": [
        "### Task 4"
      ],
      "metadata": {
        "id": "hq1TJLOZPlPx"
      }
    },
    {
      "cell_type": "markdown",
      "source": [
        "Find a particular solution of $\\ddot{x} + \\dot{x} + x = t$."
      ],
      "metadata": {
        "id": "Y7MlTvo1PiW6"
      }
    },
    {
      "cell_type": "markdown",
      "source": [
        "As the right-handside is a polynomial, let's use the highest order ansatz for $x$: $x = At + B$.\n",
        "\n",
        "The equation will become $0 + A + At + B = t$. After grouping the coefficients the following system is obtained:\n",
        "\n",
        "$\\left\\{\n",
        "    \\begin{array}\\\\\n",
        "      A = 1 \\\\\n",
        "      A + B = 0 \\Rightarrow B = -1\n",
        "    \\end{array}\n",
        "  \\right. $\n",
        "\n",
        "The final solution will be $\\boxed{X = t - 1}$."
      ],
      "metadata": {
        "id": "JPFmVaj1PtpB"
      }
    },
    {
      "cell_type": "markdown",
      "source": [
        "### Task 5"
      ],
      "metadata": {
        "id": "Z8VZq7echI7Z"
      }
    },
    {
      "cell_type": "markdown",
      "source": [
        "A particular solution of $\\ddot{x} + 3\\dot{x} + 2x = 2e^{2t}$ is given by:"
      ],
      "metadata": {
        "id": "iE7rwx7FhHPC"
      }
    },
    {
      "cell_type": "markdown",
      "source": [
        "Solve for the inhomogeneous equation: $X = A e^{2t}$. The resulting equation is $4A + 6A + 2A = 2$, with solution $A = 1/6$. The particular solution is therefore\n",
        "$$\\boxed{X(t) = \\frac16 e^{2t}}$$"
      ],
      "metadata": {
        "id": "DUHN9cJahYW6"
      }
    },
    {
      "cell_type": "markdown",
      "source": [
        "### Task 6"
      ],
      "metadata": {
        "id": "ONF3Km1chvZJ"
      }
    },
    {
      "cell_type": "markdown",
      "source": [
        "A particular solution of $\\ddot{x} - \\dot{x} - 2x = 2\\cos 2t$ is given by"
      ],
      "metadata": {
        "id": "YGgaNcgwhxP5"
      }
    },
    {
      "cell_type": "markdown",
      "source": [
        "Using Taylor formula let's rewrite the equiation in the complex form:\n",
        "$$\\ddot{z} - \\dot{z} - 2z = 2e^{i2t}$$\n",
        "As the original equation contains cosine only, the solution is $X(t) = Re\\{z\\}$. Let $Z = C e^{i2t}$, then the equation becomes:\n",
        "$$-4C e^{i2t} - 2Ci e^{i2t} - 2C e^{i2t} = 2e^{i2t} \\Rightarrow -6C - 2Ci = 2$$\n",
        "The final solution with $C = \\frac{-1}{3+i} = \\frac{-3+i}{10}$ is\n",
        "$$\\left\\{\n",
        "    \\begin{array}\\\\\n",
        "      z = \\frac{-3+i}{10} [\\cos 2t + i\\sin 2t] \\\\\n",
        "      \\boxed{X = Re\\{z\\} = -\\frac{3}{10}\\cos 2t - \\frac{1}{10}\\sin 2t}\n",
        "    \\end{array}\n",
        "  \\right. $$"
      ],
      "metadata": {
        "id": "aYNSwbhyh8Mp"
      }
    },
    {
      "cell_type": "markdown",
      "source": [
        "### Task 7"
      ],
      "metadata": {
        "id": "VgptEH_Tjr8w"
      }
    },
    {
      "cell_type": "markdown",
      "source": [
        "Find a particular solution of $\\ddot{x} - 3\\dot{x} + 2x = t+1$."
      ],
      "metadata": {
        "id": "BhJTzww8jxkX"
      }
    },
    {
      "cell_type": "markdown",
      "source": [
        "As the right-handside is a polynomial, let's use the highest order ansatz for $x$: $x = At + B$.\n",
        "\n",
        "The equation will become $0 - 3A + 2At + 2B = t+1$. After grouping the coefficients the following system is obtained:\n",
        "\n",
        "$\\left\\{\n",
        "    \\begin{array}\\\\\n",
        "      2A = 1 \\Rightarrow A = 1/2 \\\\\n",
        "      -3A + 2B = 1\n",
        "    \\end{array}\n",
        "  \\right. $\n",
        "\n",
        "The final solution will be $\\boxed{X = \\frac12 t + \\frac54}$."
      ],
      "metadata": {
        "id": "bLYm-qDaj32i"
      }
    },
    {
      "cell_type": "markdown",
      "source": [
        "### Task 8"
      ],
      "metadata": {
        "id": "kZGmFoyOMBN-"
      }
    },
    {
      "cell_type": "markdown",
      "source": [
        "Solve $\\ddot{x} + 3\\dot{x} + 2x = e^{-2t}$, with $x(0) = 0$ and $\\dot{x}(0) = 0$."
      ],
      "metadata": {
        "id": "g33saUbSMGGG"
      }
    },
    {
      "cell_type": "markdown",
      "source": [
        "1. At first one needs to form a characteristic equation by assumming $x(t) = e^{rt}$:\n",
        "$$r^2 + 3r + 2 = 0 \\Rightarrow \\boxed{r_1 = -2; r_2 = -1}$$\n",
        "The general solution is $X(t) = C_1 e^{-2t} + C_2 e^{-t}$.\n",
        "2. Solve for the inhomogeneous equation (anssatz is multiplied by $t$, as inhomogeneous term is a solution of the homogeneous equation): $X = A t e^{-t}$. The resulting equation is $4At - 4A - 6At + 3A + 2At = 1$, with solution $A = -1$. The general solution is therefore\n",
        "$$X(t) = C_1 e^{-2t} + C_2 e^{-t} - t e^{-2t} = [C_1 - t]e^{-2t} + C_2 e^{-t}$$\n",
        "3. Satisfying the inititial conditions results in the two equations\n",
        "$$\\left\\{\n",
        "    \\begin{array}\\\\\n",
        "      C_1 + C_2 = 0 \\\\\n",
        "      -(2C_1 + 1) - C_2 = 0\n",
        "    \\end{array}\n",
        "  \\right. $$\n",
        "  The final solution with $C_1 = -1$ and $C_2 = 1$ is\n",
        "  $$\\boxed{X(t) = e^{-t} -[1+t]e^{-2t}}$$\n"
      ],
      "metadata": {
        "id": "E3-tAk36MGGH"
      }
    },
    {
      "cell_type": "markdown",
      "source": [
        "### Task 9"
      ],
      "metadata": {
        "id": "UUUjJnLJpAoX"
      }
    },
    {
      "cell_type": "markdown",
      "source": [
        "Determine how  to nondimensionalize the RLC circuit equation so that the dimensionless equation takes the form:\n",
        "$$\\alpha \\frac{d^2Q}{d \\tau ^2} + \\frac{dQ}{d\\tau} + Q = \\cos \\beta \\tau$$"
      ],
      "metadata": {
        "id": "ja6fqoptnG0H"
      }
    },
    {
      "cell_type": "markdown",
      "source": [
        "First, let's write down the original RLC circuit differential equation: $L \\frac{d^2q}{d t^2} + R\\frac{dq}{dt} + \\frac{q}{C} = ε_0 \\cos \\omega t$\n",
        "\n",
        "In order to achieve a second term being without a coefficient, divide by $R$:\n",
        "$$\\dfrac{L}{R} \\frac{d^2q}{d t^2} + \\frac{dq}{dt} + \\frac{q}{RC} = \\frac{ε_0}{R} \\cos \\omega t$$\n",
        "The dimensionless time $\\tau = \\frac{t}{RC}$. Now let's find derivative with respect to $\\tau$:\n",
        "1. $\\dfrac{dq}{d\\tau} \\cdot \\dfrac{d\\tau}{dt} = \\dfrac{dq}{d\\tau} \\dfrac{1}{CR}$\n",
        "2. $\\dfrac{d^2 q}{d t^2} = \\left[\\dfrac{dq}{d\\tau} \\cdot \\dfrac{d\\tau}{dt} \\right]' = \\mbox{apply chain rule} = \\dfrac{d^2 q}{d \\tau^2} \\dfrac{1}{(CR)^2} + 0$ [[1](https://math.stackexchange.com/questions/865479/proving-double-derivatives-with-the-chain-rule-i-think)]\n",
        "\n",
        "Having applied the above and multiplying by $RC$ the equation becomes:\n",
        "$$\\dfrac{L}{CR^2} \\frac{d^2q}{d \\tau^2} + \\frac{dq}{d\\tau} + q = ε_0C \\cos(\\omega CR \\tau)$$\n",
        "To remove the coefficient of the inhomogeneous term, which has units of charge, we can define the dimensionless charge $Q$ to be: $Q = \\frac{q}{ε_0 C}$. Now let's find derivative with respect to $\\tau$:\n",
        "\n",
        "\\* $\\left[\\dfrac{dQ}{d\\tau} \\cdot \\dfrac{d\\tau}{dt} \\right]' = \\left[\\dfrac{1}{ε_0 C}\\dfrac{dq}{d\\tau} \\cdot \\dfrac{d\\tau}{dt} \\right]' = \\dfrac{1}{ε_0 C}\\left[... \\right]'$\n",
        "\n",
        "before applying the derivatives one divides both sides by $\\dfrac{1}{ε_0 C}$ and then group the terms accordign to the derivates above:\n",
        "\n",
        "$$\\dfrac{L}{R} \\frac{d^2Q}{d \\tau^2} + \\frac{dQ}{d\\tau} + Q = \\cos(\\omega CR \\tau) = \\alpha \\frac{d^2Q}{d \\tau^2} + \\frac{dQ}{d\\tau} + Q = \\cos(\\beta \\tau)$$"
      ],
      "metadata": {
        "id": "c4Q_bncQph5F"
      }
    },
    {
      "cell_type": "markdown",
      "source": [
        "### Task 10"
      ],
      "metadata": {
        "id": "maH1DicGA3EV"
      }
    },
    {
      "cell_type": "markdown",
      "source": [
        "Determine how to nondimensionalize the mass on a spring equation so that the dimensionless equation takes the form\n",
        "$$\\alpha \\frac{d^2X}{d \\tau ^2} + \\frac{dX}{d\\tau} + X = \\cos \\beta \\tau$$"
      ],
      "metadata": {
        "id": "r1Npt5oqA3VI"
      }
    },
    {
      "cell_type": "markdown",
      "source": [
        "First, let's write down the original Spring motion differential equation: $m \\frac{d^2 x}{d t^2} + c\\frac{dx}{dt} + kx = F_0 \\cos \\omega t$.\n",
        "\n",
        "In order to achieve a second term being without a coefficient, divide by $c$:\n",
        "$$\\frac{m}{c} \\frac{d^2 x}{d t^2} + \\frac{dx}{dt} + \\frac{k}{c}x = \\frac{F_0}{c} \\cos \\omega t$$\n",
        "\n",
        "Dimensionless time $\\tau$ will be: $\\tau = \\dfrac{k}{c}t$.\n",
        "Now let's find derivative with respect to $\\tau$:\n",
        "1. $\\dfrac{dx}{dt} = \\dfrac{dx}{d\\tau} \\cdot \\dfrac{d\\tau}{dt} = \\dfrac{dx}{d\\tau} \\dfrac{k}{c}$\n",
        "2. $\\dfrac{d^2 x}{d t^2} = \\left[\\dfrac{dx}{d\\tau} \\cdot \\dfrac{d\\tau}{dt} \\right]' = \\mbox{apply chain rule} = \\dfrac{d^2 x}{d \\tau^2} \\left( \\dfrac{k}{c} \\right)^2 + 0$\n",
        "\n",
        "Having applied the above and multiplying by $c/k$ the equation becomes:\n",
        "$$\\frac{km}{c^2} \\frac{d^2 x}{d \\tau^2} + \\frac{dx}{d\\tau} + x = \\frac{F_0}{k} \\cos \\left( \\frac{c\\omega}{k} \\tau \\right)$$\n",
        "\n",
        "To remove the coefficient of the inhomogeneous term, which has units of distance, we can define the dimensionless distance $X$ to be: $X = \\frac{k}{F_0}x$. Before applying the derivatives one multiplies both sides by $\\dfrac{k}{F_0 }$ and then group the terms according to the derivates above:\n",
        "$$\\frac{km}{c^2} \\frac{d^2 X}{d \\tau^2} + \\frac{dX}{d\\tau} + X = \\cos \\left( \\frac{c\\omega}{k} \\tau \\right)$$\n",
        "\n",
        "Therefore, $\\alpha = \\dfrac{km}{c^2}$ and $\\beta = \\dfrac{c\\omega}{k}$.\n"
      ],
      "metadata": {
        "id": "yqxn6jkTBQl7"
      }
    },
    {
      "cell_type": "markdown",
      "source": [
        "### Task 11"
      ],
      "metadata": {
        "id": "Bi8mW9B_rE2t"
      }
    },
    {
      "cell_type": "markdown",
      "source": [
        "The solution of the differential equation $\\ddot{x} + \\dot{x} = 1$ with $x(0) = 0$ and $\\dot{x}(0) = 0$."
      ],
      "metadata": {
        "id": "zdbOlQAQrHTw"
      }
    },
    {
      "cell_type": "markdown",
      "source": [
        "1. At first one needs to form a characteristic equation by assumming $x(t) = e^{rt}$:\n",
        "$$r^2 + r = 0 \\Rightarrow \\boxed{r_1 = 0; r_2 = -1}$$\n",
        "The general solution is $X(t) = C_1 + C_2 e^{-t}$.\n",
        "2. As the right-handside is a polynomial, let's use the highest order ansatz for $x$: $x = At + B$.\n",
        "The equation will become $0 + A = 1$: $X_p = t$\n",
        "\n",
        "The general solution will be $X = C_1 + C_2 e^{-t} + t$.\n",
        "\n",
        "With $x(0) = 0$ and $\\dot{x}(0) = 0$ one obtains\n",
        "\n",
        "$\\left\\{\n",
        "    \\begin{array}\\\\\n",
        "      C_1 + C_2 = 0 \\\\\n",
        "      C_2 = 1\n",
        "    \\end{array}\n",
        "  \\right. $\n",
        "\n",
        "The final solution will be $\\boxed{X = -1 + e^{-t} + t}$."
      ],
      "metadata": {
        "id": "gzsSWywyroBG"
      }
    },
    {
      "cell_type": "markdown",
      "source": [
        "### Task 12"
      ],
      "metadata": {
        "id": "_GaEjbmAuQ1_"
      }
    },
    {
      "cell_type": "markdown",
      "source": [
        "The solution of the differential equation $\\ddot{x} - x = \\cosh t$, with $x(0) = 0$ and $\\dot{x}(0) = 0$."
      ],
      "metadata": {
        "id": "hEerabqjuVu9"
      }
    },
    {
      "cell_type": "markdown",
      "source": [
        "The hyperbolic sine and cosine\n",
        "functions satisfy $\\dfrac{dt \\cosh}{dt} = \\sinh t$ and $\\dfrac{dt \\sinh}{dt} = \\cosh t$. Furthermore, $\\sinh (0) = 0$ and $\\cosh (0) = 1$.\n",
        "1. The general homogeneous solution is $x_h = A \\cosh t + B \\sinh t$. By substituting it into the equation one can observe that it results in $0$, therefore the general solution will contain only inhomogenious part.\n",
        "2. Since the inhomogeneous term is a solution of the homogeneous equation, we try as our particular solution $x_p = Ct \\cosh t + Dt \\sinh t$ (not multiplied by $t$ will lead to $0 = \\cosh t$).\n",
        "\n",
        "$\\left\\{\n",
        "    \\begin{array}\\\\\n",
        "      \\dot{x}_p = C\\cosh t + D\\sinh t + Ct\\sinh t + Dt\\cosh t \\\\\n",
        "      \\ddot{x}_p = 2C\\sinh t + 2D\\cosh t + Ct\\cosh t + Dt\\sinh t.\n",
        "    \\end{array}\n",
        "  \\right. $\n",
        "\n",
        "Substituting into the ode, we get $2C\\sinh t + 2D\\cosh t = \\cosh t$. Therefore $C = 0$ and $D = 1/2$. The general solution is therefore\n",
        "$$X = A \\cosh t + B \\sinh t + \\frac12 t \\sinh t$$\n",
        "\n",
        "with $x(0) = 0$ and $\\dot{x}(0) = 0$:\n",
        "\n",
        "$\\left\\{\n",
        "    \\begin{array}\\\\\n",
        "      A = 0 \\\\\n",
        "      B = 0.\n",
        "    \\end{array}\n",
        "  \\right. $\n",
        "\n",
        "Therefore, $\\boxed{X = \\frac12 t \\sinh t}$"
      ],
      "metadata": {
        "id": "2hDrKqQjvcjw"
      }
    },
    {
      "cell_type": "markdown",
      "source": [
        "### Task 13"
      ],
      "metadata": {
        "id": "1g-UHzXuMg_9"
      }
    },
    {
      "cell_type": "markdown",
      "source": [
        "The solution of $\\ddot{x} + \\omega^2 x = f \\sin \\omega t$ with initial conditions $x(0) = 0$ and $\\dot{x}(0) = 0$ is given by"
      ],
      "metadata": {
        "id": "nliB0Rp-M_f0"
      }
    },
    {
      "cell_type": "markdown",
      "source": [
        "**1)** First, one solves characteristic homogeneous equation $r^2 + \\omega^2 r = 0$. This gives us $r_{1,2} = \\pm\\omega i$.\n",
        "\n",
        "The solution based on it is: $Z(t) = e^{\\pm\\omega t} = (\\cos\\omega t \\pm i \\sin\\omega t)$.\n",
        "\n",
        "Applying the principle of superposition, any linear combination of $Z$ and $\\bar{Z}$ ̄is also a solution to the second-order ode, and we can form two different linear combinations of $Z(t)$ and $Z(t)$ that are real, namely $X_1(t) = Re\\{Z(t)\\}$ and $X_2(t) = Im\\{Z(t)\\}$.\n",
        "\n",
        "The general solution of homogeneous equation is $X_h(t) = A \\cos\\omega t + B \\sin\\omega t$.\n",
        "\n",
        "**2)** Solving for inhomogeneous eq using Taylor's formula gives: $\\ddot{z} + \\omega^2 z = f e^{i\\omega t}$. As the right handside contains $\\sin$, particular solution is $X(t) = Im(Z)$, where $Z = Cte^{i\\omega t}$.\n",
        "\n",
        "By substituting this into the equation one obtains $2i\\omega C - \\omega^2 Ct + \\omega^2 Ct = f \\Rightarrow C = \\dfrac{f}{2i\\omega} = -\\dfrac{if}{2\\omega}$.\n",
        "Hence, $X_p(t) = Im(Z) = -\\dfrac{ft}{2\\omega}\\cos\\omega t$.\n",
        "\n",
        "Total solution is $\\boxed{X(t) = X_h(t) + X_p(t)}$ and $\\boxed{\\dot{X}(t) = -A\\omega\\sin\\omega t + B\\omega\\cos\\omega t -\\dfrac{f}{2\\omega}\\cos\\omega t + \\dfrac{ft}{2\\omega}\\sin\\omega t}$. By applying the initial conditions one obtains:\n",
        "$\\left\\{\n",
        "    \\begin{array}\\\\\n",
        "      A = 0 \\\\\n",
        "      B = \\dfrac{f}{2\\omega^2}\n",
        "    \\end{array}\n",
        "  \\right. $\n",
        "\n",
        "  The resulting solution is therefore is $X(t) = \\boxed{\\dfrac{f}{2\\omega^2}\\sin\\omega t -\\dfrac{ft}{2\\omega}\\cos\\omega t}$"
      ],
      "metadata": {
        "id": "Hs_OtABeNRfe"
      }
    },
    {
      "cell_type": "markdown",
      "source": [
        "## Week 4"
      ],
      "metadata": {
        "id": "fF0yC0GKLqA2"
      }
    },
    {
      "cell_type": "markdown",
      "source": [
        "The Laplace transform of $f(t)$, denoted by $F(s) = \\mathcal{L}\\{f(t)\\}$, is defined by the integral\n",
        "$$F(s) = \\int\\limits_0^{\\infty} e^{-st}f(t)dt.$$\n",
        "The values of $s$ may be restricted to ensure convergence."
      ],
      "metadata": {
        "id": "93mHn90XLvU1"
      }
    },
    {
      "cell_type": "markdown",
      "source": [
        "The Heaviside or unit step function, denoted here by $u_c(t)$, is zero for $t < c$ and one for $t \\geq c$:\n",
        "$$u_c(t) = \\left\\{\n",
        "    \\begin{array}\\\\\n",
        "      0, t < c; \\\\\n",
        "      1, t \\geq c\n",
        "    \\end{array}\n",
        "  \\right. $$\n",
        "\n",
        "The Heaviside function can be viewed as the step-up function. The Laplace transform of the Heaviside function is determined by integration:\n",
        "$$\\mathcal{L}\\{ u_c(t) \\} = \\int\\limits_0^{\\infty} e^{-st}u_c(t)dt = \\frac{e^{-cs}}{s}$$\n",
        "\n",
        "The Heaviside function can be used to represent a translation of a function $f(t)$ a distance $c$ in the positive $t$ direction:\n",
        "$$ u_c(t)f(t-c) = \\left\\{\n",
        "    \\begin{array}\\\\\n",
        "      0, t < c; \\\\\n",
        "      f(t-c), t \\geq c\n",
        "    \\end{array}\n",
        "  \\right. $$\n",
        "The Laplace transform is\n",
        "$$\\mathcal{L}\\{ u_c(t) f(t-c) \\} = e^{-cs}F(s)$$"
      ],
      "metadata": {
        "id": "0GccdBSonhX1"
      }
    },
    {
      "cell_type": "markdown",
      "source": [
        "The Dirac delta function, denoted as $\\delta(t)$, is defined by requiring that for any function $f(t)$\n",
        "$$\\int\\limits_{-\\infty}^{\\infty} f(t) \\delta(t) dt = f(0)$$\n",
        "The Dirac delta function is technically not a function, but is what mathematicians call a distribution.\n",
        "\n",
        "For our purposes, the most useful representation of the shifted\n",
        "Dirac delta function, $\\delta (t−c)$, makes use of the step-up, step-down function constructed from Heaviside functions:\n",
        "$$\\delta (t-c) = \\lim_{\\epsilon \\rightarrow 0} \\frac{1}{2\\epsilon}[u_{c-\\epsilon}(t) - u_{c+\\epsilon}(t)]$$\n",
        "\n",
        "The well-defined step-up, step-down function is zero except over a\n",
        "small interval of width $2\\epsilon$ centered at $t = c$, over which it takes the large value $1/2\\epsilon$. The\n",
        "integral of this function is one, independent of the value of $\\epsilon$.\n",
        "\n",
        "The Laplace transform of the Dirac delta function is easily found by integration using the definition of the delta function. With $c > 0$:\n",
        "$$\\mathcal{L}\\{\\delta(t-c)\\} = \\int\\limits_{0}^{\\infty} e^{-st}\\delta(t-c) dt = e^{-cs}$$"
      ],
      "metadata": {
        "id": "vaR-7B2hs5Ox"
      }
    },
    {
      "cell_type": "markdown",
      "source": [
        "### Task 1"
      ],
      "metadata": {
        "id": "_tvjgtlXMeW2"
      }
    },
    {
      "cell_type": "markdown",
      "source": [
        "Compute the Laplace transform of $f(t) = \\sin bt$"
      ],
      "metadata": {
        "id": "HEHZo6lfMjMf"
      }
    },
    {
      "cell_type": "markdown",
      "source": [
        "$F(s) = \\int\\limits_0^{\\infty} e^{-st} \\sin bt dt.$ This integral is solved by parts: let $u = \\sin bt$ and $dv = e^{-st}dt$.\n",
        "$$-\\frac{e^{-st}}{s} \\sin bt + \\int \\frac{b}{s} e^{-st} \\cos bt dt$$\n",
        "Integrate by parts a second time letting: $u = b\\cos bt$ and $dv = \\frac{1}{s} e^{-st} dt$.\n",
        "$$-\\frac{e^{-st}}{s} \\sin bt -\\frac{b \\cdot e^{-st}}{s^2} \\cos bt - \\frac{b^2}{s^2} \\int e^{-st} \\sin bt dt$$\n",
        "This gives us $F(s) = \\dfrac{-e^{-st}}{s^2 + b^2} [s \\sin bt + b \\cos bt] \\Big\\vert_0^{\\infty} = \\dfrac{s}{s^2 + b^2}[0+0] + \\dfrac{b}{s^2 + b^2}[0+1] = \\boxed{ \\dfrac{b}{s^2 + b^2} }$.\n",
        "\n",
        "The very last part requires solving a limit with $\\sin x$: [MathStackExchange](https://math.stackexchange.com/questions/2615626/sin-x-e-x-limit)."
      ],
      "metadata": {
        "id": "WzUBkwAJMrPA"
      }
    },
    {
      "cell_type": "markdown",
      "source": [
        "### Task 2"
      ],
      "metadata": {
        "id": "dSRYJivP0SKW"
      }
    },
    {
      "cell_type": "markdown",
      "source": [
        "Solve $\\ddot{x} + 5 \\dot{x} + 6x = e^{-t}$, with $x(0) = 0$ and $\\dot{x} = 0$, by the Laplace transform method."
      ],
      "metadata": {
        "id": "is3muISq0X9W"
      }
    },
    {
      "cell_type": "markdown",
      "source": [
        "Let's rewrite this equation in Lapalace transform terms: $\\mathcal{L}\\{f(t)\\} = X(s)$.\n",
        "$$s^2X + 5sX + 6X = \\frac{1}{s+1}$$\n",
        "One obtains $X$ as: $X = \\frac{1}{(s+3)(s+2)(s+1)}$.\n",
        "\n",
        "Reverse Laplace transfor leads to $X = \\frac{a}{s+3}+\\frac{b}{s+2} + \\frac{c}{s+1} = \\frac{1/2}{s+3}+\\frac{-1}{s+2} + \\frac{1/2}{s+1}$.\n",
        "\n",
        "From the transform table one obtains $\\boxed{x(t) = \\dfrac12 e^{-3t} - e^{-2t} + \\dfrac12 e^{-t}}$."
      ],
      "metadata": {
        "id": "RXRxRHIV0kKu"
      }
    },
    {
      "cell_type": "markdown",
      "source": [
        "### Task 3"
      ],
      "metadata": {
        "id": "BSjRQViwsEnK"
      }
    },
    {
      "cell_type": "markdown",
      "source": [
        "What is the Laplace transform of $x(t) = e^{-t} \\cos \\pi t$?"
      ],
      "metadata": {
        "id": "jqz_wMRIsGjR"
      }
    },
    {
      "cell_type": "markdown",
      "source": [
        "$X = \\int\\limits_0^{\\infty} e^{-(s+1)t}\\cos\\pi tdt = \\left\\{\n",
        "    \\begin{array}\\\\\n",
        "      u = e^{-(s+1)t} \\rightarrow du = -(s+1)e^{-(s+1)t}dt \\\\\n",
        "      dV = \\cos\\pi t dt \\rightarrow V = \\frac{1}{\\pi} \\sin\\pi t\n",
        "    \\end{array}\n",
        "  \\right. = \\frac{1}{\\pi}e^{-(s+1)t}\\sin\\pi t \\Big\\vert_0^{\\infty} + \\frac{s+1}{\\pi} \\int\\limits_0^{\\infty} e^{-(s+1)t}\\sin\\pi tdt = 0 + \\int\\limits_0^{\\infty} [...] dt = \\left\\{\n",
        "    \\begin{array}\\\\\n",
        "      u = e^{-(s+1)t} \\rightarrow du = -(s+1)e^{-(s+1)t}dt \\\\\n",
        "      dV = \\sin\\pi t dt \\rightarrow V = -\\frac{1}{\\pi} \\cos\\pi t\n",
        "    \\end{array}\n",
        "  \\right. = -\\frac{s+1}{\\pi} \\cdot \\frac{1}{\\pi} e^{-(s+1)t}\\cos\\pi t\\Big\\vert_0^{\\infty} - \\frac{s+1}{\\pi}\\cdot\\frac{s+1}{\\pi}\\int\\limits_0^{\\infty} e^{-(s+1)t}\\cos\\pi tdt \\Leftrightarrow \\left[1 + \\frac{(s+1)^2}{\\pi^2} \\right]\\int\\limits_0^{\\infty} [...] dt = \\frac{s+1}{\\pi^2}$\n",
        "\n",
        "From the final equality one obtains: $X = \\dfrac{s+1}{\\pi^2} \\cdot \\dfrac{\\pi^2}{(s+1)^2 + \\pi^2} = \\boxed{ \\dfrac{s+1}{(s+1)^2 + \\pi^2} }$"
      ],
      "metadata": {
        "id": "S8J8HL0NsN9J"
      }
    },
    {
      "cell_type": "markdown",
      "source": [
        "### Task 4"
      ],
      "metadata": {
        "id": "5fIiE8oZqrdK"
      }
    },
    {
      "cell_type": "markdown",
      "source": [
        "Prove that $\\mathcal{L}\\{ u_c(t) f(t-c) \\} = e^{-cs} F(s)$"
      ],
      "metadata": {
        "id": "9100eUTTrG-6"
      }
    },
    {
      "cell_type": "markdown",
      "source": [
        "$\\mathcal{L}\\{ u_c(t) f(t-c) \\} = \\int\\limits_0^{\\infty} e^{-st}u_c(t)f(t-c)dt = \\int\\limits_c^{\\infty} e^{-st}f(t-c)dt = [t' = t-c] = \\int\\limits_c^{\\infty} e^{-s(t'+c)}f(t')dt' = e^{-cs}\\int\\limits_c^{\\infty} e^{-st'}f(t')dt' = e^{-cs}F(s)$"
      ],
      "metadata": {
        "id": "7QjmNQ0drOSa"
      }
    },
    {
      "cell_type": "markdown",
      "source": [
        "### Task 5"
      ],
      "metadata": {
        "id": "E3cB1dMcrgOa"
      }
    },
    {
      "cell_type": "markdown",
      "source": [
        "Consider the piecewise continuous function given by\n",
        "$$f(t) = \\left\\{\n",
        "    \\begin{array}\\\\\n",
        "      t, t < 1; \\\\\n",
        "      1, t \\geq 1\n",
        "    \\end{array}\n",
        "  \\right. $$\n",
        "\n",
        "**a)** Express $f(t)$ in a single line using the Heaviside function.\n",
        "\n",
        "**b)** Find $F = F(s)$."
      ],
      "metadata": {
        "id": "9G1hK4DMr3ti"
      }
    },
    {
      "cell_type": "markdown",
      "source": [
        "**a)** $f(t) = t - u_c(t)[t-1]$\n",
        "\n",
        "**b)** $F = F(s) = \\mathcal{L}\\{t\\} - \\mathcal{L}\\{u_1(t)[t-1]\\} = \\frac{1}{s^2} - \\frac{e^{-s}}{s^2}$"
      ],
      "metadata": {
        "id": "nykXrRPasNZb"
      }
    },
    {
      "cell_type": "markdown",
      "source": [
        "### Task 6"
      ],
      "metadata": {
        "id": "QepSeeheuXsv"
      }
    },
    {
      "cell_type": "markdown",
      "source": [
        "Prove that $\\delta(ax) = \\frac{1}{|a|}\\delta(x)$"
      ],
      "metadata": {
        "id": "4NDvdxUbukhm"
      }
    },
    {
      "cell_type": "markdown",
      "source": [
        "For $a > 0$, we have\n",
        "$$\\int\\limits_{-\\infty}^{\\infty} f(x) \\delta(ax) dx = [x' = ax] = \\frac1a \\int\\limits_{-\\infty}^{\\infty} f(x'/a) \\delta(x') dx' = \\frac1a f(0) = \\frac1a \\int\\limits_{-\\infty}^{\\infty} f(x) \\delta(x) dx$$\n",
        "\n",
        "Therefore $\\delta(ax) = \\frac{1}{a}\\delta(x)$. For $a < 0$, the limits of integration reverse upon the substitution, and one finds $\\delta(ax) = -\\frac{1}{a}\\delta(x)$"
      ],
      "metadata": {
        "id": "wRcJM3HCulKe"
      }
    },
    {
      "cell_type": "markdown",
      "source": [
        "### Task 7"
      ],
      "metadata": {
        "id": "JFnZDq4vwdmm"
      }
    },
    {
      "cell_type": "markdown",
      "source": [
        "Show that $u_c(x) = \\int\\limits_{-\\infty}^{x} f(x) \\delta(x'-c)dx'$"
      ],
      "metadata": {
        "id": "09q67gCBwgdO"
      }
    },
    {
      "cell_type": "markdown",
      "source": [
        "The integral given is zero if $(x < c)$ and one if $(x > c)$. This is the definition of $u_c(x)$."
      ],
      "metadata": {
        "id": "64K4ltmEwxbT"
      }
    },
    {
      "cell_type": "markdown",
      "source": [
        "### Task 8"
      ],
      "metadata": {
        "id": "5FiUoaQgUM02"
      }
    },
    {
      "cell_type": "markdown",
      "source": [
        "(a) Show that the solution in the lecture, $x(t) = \\frac12 - e^{-t} + \\frac12 e^{-2t} - u_1(t) \\left(\\frac12 - e^{-(t-1) + \\frac12e^{-2(t-1)}}\\right)$,\n",
        "is continuous at $t=1$."
      ],
      "metadata": {
        "id": "uKJTBAqUUOkl"
      }
    },
    {
      "cell_type": "markdown",
      "source": [
        "To show that one needs to find first derivative and compute its value to the left and to the right of discontinuous point $t=1$:\n",
        "1. $\\dot{x}(1-) = e^{-1} - e^{-2} - \\dot{u_1}(1-){\\left[ \\frac12 - 1 + \\frac12 \\right]} - \\dot{u_1}(1-)[ 0 + 1 - 1] = e^{-1}[1-e^{-1}]$\n",
        "2. $\\dot{x}(1+) = e^{-1} - e^{-2} - \\dot{u_1}(1+)\\left[ \\frac12 - 1 + \\frac12 \\right] - \\dot{u_1}(1-)[ 0 + 1 - 1] = e^{-1}[1-e^{-1}]$"
      ],
      "metadata": {
        "id": "Vrwp262qU1H4"
      }
    },
    {
      "cell_type": "markdown",
      "source": [
        "(b) Solve $\\ddot{x} + x = 1 - u_{2\\pi}(t)$, with $x(0) = 0$ and $\\dot{x} = 0$."
      ],
      "metadata": {
        "id": "Wp7NcJ3UUpoI"
      }
    },
    {
      "cell_type": "markdown",
      "source": [
        "Using the Laplace transformation table one transforms the equation to:\n",
        "$s^2X + X = \\dfrac{1}{s} - \\dfrac{e^{-2\\pi s}}{s}$\n",
        "\n",
        "$X = \\dfrac{1-e^{-2\\pi s}}{s(s^2+1)}$, let $F(s) = \\dfrac{1}{s(s^2+1)} = \\dfrac{1}{s} - \\dfrac{s}{s^2+1} \\Rightarrow \\mathcal{L}^{-1}\\{F(s)\\} = 1 - \\cos t = f(t)$\n",
        "\n",
        "$X = F(s) - e^{-2\\pi s} F(s) \\Rightarrow x(t) = f(t) - u_{2\\pi}(t)f(t-2\\pi) = 1 - \\cos t - u_{2\\pi}(t)[1 - \\cos(t-2\\pi)] = (1 - \\cos t)(1 - u_{2\\pi}(t)) = $\n",
        "$$= \\left\\{\n",
        "    \\begin{array}\\\\\n",
        "      0, t \\geq 2\\pi \\\\\n",
        "      1, t < 2\\pi\n",
        "    \\end{array}\n",
        "  \\right. $$"
      ],
      "metadata": {
        "id": "usEPLaplfp9b"
      }
    },
    {
      "cell_type": "markdown",
      "source": [
        "### Task 9"
      ],
      "metadata": {
        "id": "UnDBWqWqjZRG"
      }
    },
    {
      "cell_type": "markdown",
      "source": [
        "Solve $\\ddot{x} + x = \\delta(t) - \\delta(t-2\\pi)$, with $x(0) = \\dot{x}(0) = 0$"
      ],
      "metadata": {
        "id": "PGEGqGy8ji7G"
      }
    },
    {
      "cell_type": "markdown",
      "source": [
        "Using the Laplace transformation table one transforms the equation to:\n",
        "$s^2X + X = 1 - e^{-2\\pi s}$\n",
        "\n",
        "$X = \\dfrac{1 - e^{-2\\pi s}}{1+s^2}$, let $F(s) = \\dfrac{1}{s^2+1} \\Rightarrow \\mathcal{L}^{-1}\\{F(s)\\} = \\sin t = f(t)$\n",
        "\n",
        "$X = F(s) - e^{-2\\pi s} F(s) \\Rightarrow x(t) = f(t) - u_{2\\pi}(t)f(t-2\\pi) = \\sin t - u_{2\\pi}(t)\\sin(t-2\\pi) = $\n",
        "$$= \\left\\{\n",
        "    \\begin{array}\\\\\n",
        "      0, t \\geq 2\\pi \\\\\n",
        "      1, t < 2\\pi\n",
        "    \\end{array}\n",
        "  \\right. $$"
      ],
      "metadata": {
        "id": "ql3_RRZYjylp"
      }
    },
    {
      "cell_type": "markdown",
      "source": [
        "### Task 10 (The series solution method)"
      ],
      "metadata": {
        "id": "ixSjGW42X5Rh"
      }
    },
    {
      "cell_type": "markdown",
      "source": [
        "Find the general solution of $y'' + y = 0$."
      ],
      "metadata": {
        "id": "lm1UCCogYSGV"
      }
    },
    {
      "cell_type": "markdown",
      "source": [
        "By now, you should know that the general solution is $y(x) = a_o\\cos x + a_1\\sin x$, with $a_0$ & $a_1$ constants. To find a power series solution, we write\n",
        "$$y(x) = \\sum_{n=0}^{\\infty} a_n x^n;$$\n",
        "and upon differentiating term-by-term\n",
        "$$y'(x) = \\sum_{n=1}^{\\infty} na_n x^{n-1}, \\space y''(x) = \\sum_{n=2}^{\\infty} n(n-1)a_n x^{n-2}.$$\n",
        "Substituting the power series for y and its derivatives into the differential equation, we obtain\n",
        "$$\\sum_{n=2}^{\\infty} n(n-1)a_n x^{n-2} + \\sum_{n=0}^{\\infty} a_n x^n = 0.$$\n",
        "The power-series solution method requires combining the two sums into a single power series in $x$. We shift the summation index downward by two in the first sum to obtain\n",
        "$$\\sum_{n=0}^{\\infty} (n+2)(n+1)a_{n+2} x^{n}.$$\n",
        "We can then combine the two sums to obtain\n",
        "$$\\sum_{n=0}^{\\infty} \\left[ (n+2)(n+1)a_{n+2} + a_n \\right] x^{n} = 0.$$\n",
        "For the equality to hold, the coefficient of each power of x must vanish separately. We\n",
        "therefore obtain the *recurrence relation*\n",
        "$$a_{n+2} = - \\frac{a_n}{(n+2)(n+1)}, \\space n = 0,1,2,...$$\n",
        "We observe that even and odd coefficients decouple. We thus obtain two independent sequences starting with first term $a_0$ or $a_1$. Developing these sequences, we have for the first sequence,\n",
        "$$a_0 \\Rightarrow a_2 = -\\frac12 a_0 \\Rightarrow a_4 = -\\frac{1}{4 \\cdot 3}a_2 = \\frac{1}{4!} a_0$$\n",
        "and so on; and for the second sequence,\n",
        "$$a_1 \\Rightarrow a_3 = -\\frac32 a_1 \\Rightarrow a_5 = -\\frac{1}{5 \\cdot 4}a_3 = \\frac{1}{5!} a_1$$\n",
        "and so on. Using the principle of superposition, the general solution is therefore\n",
        "$$y(x) = a_0 \\left( 1 - \\frac{x^2}{2!} + \\frac{x^4}{4!} - ... \\right)+ a_1 \\left( x - \\frac{x^3}{3!} + \\frac{x^5}{5!} - ... \\right) = \\boxed{a_0\\cos x + a_1\\sin x}$$\n"
      ],
      "metadata": {
        "id": "pliNcLadYZMN"
      }
    },
    {
      "cell_type": "markdown",
      "source": [
        "### Task 10"
      ],
      "metadata": {
        "id": "N3v5ElUwdQj9"
      }
    },
    {
      "cell_type": "markdown",
      "source": [
        "Find two independent power series solutions of $y'' + xy' - y = 0$, Keep terms up to $x^6$."
      ],
      "metadata": {
        "id": "KdfaowxcdQ89"
      }
    },
    {
      "cell_type": "markdown",
      "source": [
        "Substituting $y(x) = \\sum_\\limits{n=0}^{\\infty} a_n x^n$ into the differential equation, we have\n",
        "$$y'' + xy' - y = \\sum_{n=2}^{\\infty} n(n-1)a_n x^{n-2} + \\sum_{n=1}^{\\infty} na_n x^{n} - \\sum_{n=0}^{\\infty} a_n x^n = \\sum_{n=0}^{\\infty} (n+2)(n+1)a_{n+2} x^{n} + \\sum_{n=0}^{\\infty} na_{n} x^{n} - \\sum_{n=0}^{\\infty} a_n x^n = \\sum_{n=0}^{\\infty} \\left[(n+2)(n+1)a_{n+2} +na_n - a_n \\right]x^n = 0$$\n",
        "Starting with $a_0$, we find $a_2 = a_0/2, \\space a_4 = -a_0/24$, and $a_6 = a_0/240$.\n",
        "Starting with $a_1$, we find $a_3 = 0, \\space a_5 = 0$ etc. The general solution to order $x^6$ is given by\n",
        "$$y(x) = a_0 \\left( 1 + \\frac{x^2}{2!} - \\frac{x^4}{24} + \\frac{x^6}{240} - ... \\right) + a_1x.$$"
      ],
      "metadata": {
        "id": "BH9hvQBhdhUQ"
      }
    },
    {
      "cell_type": "markdown",
      "source": [
        "## Week 5"
      ],
      "metadata": {
        "id": "nI9wsvNAnh0i"
      }
    },
    {
      "cell_type": "markdown",
      "source": [
        "Find the general solution of $\\dot{x}_1 = x_1 + x_2, \\space \\dot{x}_1 = 4x_1 + x_2$\n",
        "We consider a system of homogeneous linear odes with constant coefficients given by\n",
        "$$\\dot{x}_1 = ax_1 + bx_2, \\space \\dot{x}_1 = cx_1 + dx_2$$\n",
        "which can be written in matrix form as\n",
        "$$\\frac{d}{dt} \\begin{pmatrix}\n",
        "x_1 \\\\\n",
        "x_2\n",
        "\\end{pmatrix} =\n",
        "\\begin{pmatrix}\n",
        "1 & 1 \\\\\n",
        "4 & 1\n",
        "\\end{pmatrix} \\begin{pmatrix}\n",
        "x_1 \\\\\n",
        "x_2\n",
        "\\end{pmatrix}$$\n",
        "\n",
        "or $\\dot{𝚡} = A𝚡$. With our ansatz $𝚡(t) = 𝗏 e^{\\lambda t}$, we obtain the eigenvalue problem $A𝗏 = \\lambda 𝗏$. The characteristic equation of A is given by\n",
        "$$det(A-\\lambda I) = \\lambda^2 - 2\\lambda - 3 = (\\lambda-3)(\\lambda+1)=0$$\n",
        "and the eigenvalues are found to be $\\lambda_1=-1$ and $\\lambda_2=3$. To determine the corresponding eigenvectors, we substitute the eigenvalues successively into $(A-\\lambda I)𝗏 = 0$, and denote the eigenvectors as $𝗏 _1 = (v_{11}, v_{21})^T$ and $𝗏 _2 = (v_{12}, v_{22})^T$.\n",
        "Our eigenvalues and eigenvectors are given by\n",
        "$$\\lambda_1=-1, 𝗏_1 = (1, -2)^T; \\space \\lambda_2=3, 𝗏_2 = (1, 2)^T$$\n",
        "Using the principle of superposition, the general solution to the system of odes is given by\n",
        "$$𝚡(t) = c_1 𝗏_1 e^{\\lambda_1 t} + c_2 𝗏_2 e^{\\lambda_2 t}$$"
      ],
      "metadata": {
        "id": "X8R9e_TznpMq"
      }
    },
    {
      "cell_type": "markdown",
      "source": [
        "**Phase portraits**\n",
        "\n",
        "The solution of a system of two first-order odes for $x_1$ and $x_2$ can be visualized by drawing a phase portrait, with “$x$-axis” $x_1$ and “$y$-axis” $x_2$. Each curve drawn on the phase portrait corresponds to a different initial condition, and can be viewed as the trajectory of a particle at position ($x_1$, $x_2$) moving with a velocity given by ($\\dot{x}_1$, $\\dot{x}_2$).\n",
        "\n",
        "If there are two distinct real eigenvalues of the same sign, we say that the fixed point is a node.\n",
        "\n",
        "When the eigenvalues are both negative the fixed point is a stable node, and when they are both positive, the fixed point is an unstable node. If the eigenvalues have opposite sign, the fixed point is a saddle point.\n",
        "\n",
        "If there are complex-conjugate eigenvalues, we say that the fixed point is a spiral. A spiral can be stable or unstable and this depends on the sign of the real part of the eigenvalues. If the real part is negative, then the solution decays exponentially and the\n",
        "fixed point corresponds to a stable spiral; if the real part is positive then the solution grows exponentially and the fixed point corresponds to an unstable spiral.\n",
        "\n",
        "Furthermore, a spiral may wind around the fixed point clockwise or counterclockwise, and this so-called handedness of the spiral can be determined by examining the differential equations directly. In the next few lectures, we will present phase portraits representing nodes, saddle points and spirals."
      ],
      "metadata": {
        "id": "dmbtC0O2bwZ6"
      }
    },
    {
      "cell_type": "markdown",
      "source": [
        "### Task 1"
      ],
      "metadata": {
        "id": "gOjFFs0TtAH9"
      }
    },
    {
      "cell_type": "markdown",
      "source": [
        "Consider the system of homogeneous linear odes with constant coefficients given by $\\dot{x}_1 = ax_1 + cx_2, \\space \\dot{x}_1 = cx_1 + bx_2$\n",
        "\n",
        "Prove that the eigenvalues are real."
      ],
      "metadata": {
        "id": "62EDBJwFtbWP"
      }
    },
    {
      "cell_type": "markdown",
      "source": [
        "Coefficients matrix is $A = \\begin{pmatrix}\n",
        "a & c \\\\\n",
        "c & b\n",
        "\\end{pmatrix}$.\n",
        "The characteristic equation is given by $(A-\\lambda I)𝗏=0$. To determine the eigenvalues one needs to compute the det:\n",
        "$$det(A-\\lambda I) = (a-\\lambda)(b-\\lambda) - c^2 = \\lambda^2 - \\lambda(a+b) + (ab-c^2) = 0$$\n",
        "Discriminant equals to: $D=(a+b)^2 - 4ab + 4c^2 = a^2 - 2ab + b^2 + c^2 = (a-b)^2 + c^2$. It is $D>0$, as $a \\neq b$ or $c \\neq 0.$"
      ],
      "metadata": {
        "id": "6_YPKQsutsMQ"
      }
    },
    {
      "cell_type": "markdown",
      "source": [
        "### Task 2"
      ],
      "metadata": {
        "id": "vzaHDV-WvD0j"
      }
    },
    {
      "cell_type": "markdown",
      "source": [
        "Using matrix algebra, find the general solution of $\\dot{x}_1 = -x_2, \\space \\dot{x}_1 = -2x_1 - x_2$"
      ],
      "metadata": {
        "id": "HfghPA5xvHET"
      }
    },
    {
      "cell_type": "markdown",
      "source": [
        "Coefficients matrix is $A = \\begin{pmatrix}\n",
        "0 & -1 \\\\\n",
        "-2 & -1\n",
        "\\end{pmatrix}$.\n",
        "The characteristic equation is given by $(A-\\lambda I)𝗏=0$. To determine the eigenvalues one needs to compute the det:\n",
        "$$det(A-\\lambda I) = (\\lambda-1)(\\lambda+2) = \\lambda^2 + \\lambda - 2 = 0$$\n",
        "with roots $\\lambda_1 = 1$ and $\\lambda_2 = −2$. The corresponding eigenvectors are $𝗏 _1 = (1, -1)^T$ and $𝗏 _2 = (1, 2)^T$\n",
        "\n",
        "The general solution to the system of odes is given by\n",
        "$$𝚡(t) = c_1 e^{\\lambda_1 t}(1, -1)^T + c_2 e^{\\lambda_2 t}(1, 2)^T$$\n",
        "or $x_1 = c_1e^t + c_2e^{-2t}$ and $x_2 = -c_1e^t + 2c_2e^{-2t}$"
      ],
      "metadata": {
        "id": "jXNzLH4k0j40"
      }
    },
    {
      "cell_type": "markdown",
      "source": [
        "### Task 3"
      ],
      "metadata": {
        "id": "c6fvEMq6CAhx"
      }
    },
    {
      "cell_type": "markdown",
      "source": [
        "Using matrix algebra, find the general solution of $\\dot{x}_1 = x_1 - 2x_2, \\space \\dot{x}_2 = x_1 + x_2$"
      ],
      "metadata": {
        "id": "l4PkE86SCCkJ"
      }
    },
    {
      "cell_type": "markdown",
      "source": [
        "Coefficients matrix is $A = \\begin{pmatrix}\n",
        "1 & -2 \\\\\n",
        "1 & 1\n",
        "\\end{pmatrix}$.\n",
        "The characteristic equation is given by $(A-\\lambda I)𝗏=0$. To determine the eigenvalues one needs to compute the det:\n",
        "$$det(A-\\lambda I) = (1-\\lambda)^2 + 2 = 0$$\n",
        "with roots $\\lambda_{1,2} = 1-i\\sqrt{2}$.\n",
        "\n",
        "The corresponding eigenvectors for $\\lambda=1-i\\sqrt{2}$ (for the other lambda the vector is complex conjugate):\n",
        "\n",
        "$\\begin{pmatrix}\n",
        "i\\sqrt{2} & -2 \\\\\n",
        "1 & i\\sqrt{2}\n",
        "\\end{pmatrix}\\begin{pmatrix}\n",
        "v_1\\\\\n",
        "v_2\n",
        "\\end{pmatrix} = 0$\n",
        "\n",
        "From the multiplication above one gets $v_2 = \\frac{i\\sqrt{2}}{2}v_1 \\Rightarrow \\begin{pmatrix}\n",
        "2i\\\\\n",
        "-\\sqrt{2}\n",
        "\\end{pmatrix}$\n",
        "\n",
        "The general solution to the system of odes is given by\n",
        "$$𝚡(t) = c_1 e^t Re \\left\\{(\\cos\\sqrt{2}t - i\\sin\\sqrt{2}t)\\begin{pmatrix}\n",
        "2i\\\\\n",
        "-\\sqrt{2}\n",
        "\\end{pmatrix}\\right\\} + c_2 e^t Im \\left\\{(\\cos\\sqrt{2}t - i\\sin\\sqrt{2}t) \\begin{pmatrix}\n",
        "2i\\\\\n",
        "-\\sqrt{2}\n",
        "\\end{pmatrix}\\right\\} = \\boxed{ c_1 e^t \\begin{pmatrix}\n",
        "-\\sqrt{2}\\cos\\sqrt{2}t\\\\\n",
        "2\\sin\\sqrt{2}t\n",
        "\\end{pmatrix} + c_2 e^t  \\begin{pmatrix}\n",
        "2\\cos\\sqrt{2}t\\\\\n",
        "\\sqrt{2}\\sin\\sqrt{2}t\n",
        "\\end{pmatrix} }$$"
      ],
      "metadata": {
        "id": "U9m-lVJCCNJr"
      }
    },
    {
      "cell_type": "markdown",
      "source": [
        "### Task 4"
      ],
      "metadata": {
        "id": "fhNRwrtLcwb3"
      }
    },
    {
      "cell_type": "markdown",
      "source": [
        "Determine if the fixed points of the following systems are nodes, saddle points, or spirals, and determine their stability:\n",
        "\n",
        "**(a)** $\\dot{x}_1 = -3x_1+\\sqrt{2}x_2, \\space \\dot{x}_2 = \\sqrt{2}x_1 - 2x_2$\n",
        "\n",
        "**(b)** $\\dot{x}_1 = x_1 + x_2, \\space \\dot{x}_2 = 4x_1 + x_2$\n",
        "\n",
        "**(c)** $\\dot{x}_1 = -\\frac12x_1 + x_2, \\space \\dot{x}_2 = -x_1 -\\frac12 x_2$\n"
      ],
      "metadata": {
        "id": "ShiIHuoHdVDH"
      }
    },
    {
      "cell_type": "markdown",
      "source": [
        "One needs to construct a characteristic equation and determine the eigenvalues:\n",
        "\n",
        "**(a)** $(\\lambda + 3)(\\lambda + 2) - 2 = 0$\n",
        "$D = 9 \\Rightarrow \\lambda_1 = -1, \\space \\lambda_2 = -4 \\Rightarrow$ fixed point is a stable node.\n",
        "\n",
        "**(b)** $(1- \\lambda)^2 - 4 = 0$\n",
        "$\\lambda_1 = -1, \\space \\lambda_2 = 3 \\Rightarrow$ fixed point is a saddle point.\n",
        "\n",
        "**(c)** $(\\frac12 - \\lambda)^2 + 1 = 0$\n",
        "$\\lambda = -\\frac12 \\pm i, \\Rightarrow Re{\\lambda} < 0 \\Rightarrow$ fixed point is a stable spiral.\n",
        "\n"
      ],
      "metadata": {
        "id": "3jgwDVqydWxn"
      }
    },
    {
      "cell_type": "markdown",
      "source": [
        "### Task 5"
      ],
      "metadata": {
        "id": "bfKhSy8UrlTj"
      }
    },
    {
      "cell_type": "markdown",
      "source": [
        "Consider the system of differential equations given by\n",
        "\n",
        "$\\dot{x}_1 = 2x_1 + x_2, \\space \\dot{x}_2 = x_1 + 2x_2$\n",
        "\n",
        "Determine the eigenvalues and eigenvectors, and sketch the phase\n",
        "portrait."
      ],
      "metadata": {
        "id": "fxIGwlnVwTOw"
      }
    },
    {
      "cell_type": "markdown",
      "source": [
        "Coefficients matrix is $A = \\begin{pmatrix}\n",
        "2 & 1 \\\\\n",
        "1 & 2\n",
        "\\end{pmatrix}$.\n",
        "The characteristic equation is given by $(A-\\lambda I)𝗏=0$. To determine the eigenvalues one needs to compute the det:\n",
        "$$det(A-\\lambda I) = (2-\\lambda)^2 - 1 = 0$$\n",
        "with roots $\\lambda_1 = 3$ & $\\lambda_2 = 1$.\n",
        "\n",
        "The corresponding eigenvectors are $𝗏_1 = \\begin{pmatrix}\n",
        "1 \\\\\n",
        "1\n",
        "\\end{pmatrix}$ and $𝗏_2 = \\begin{pmatrix}\n",
        "1 \\\\\n",
        "-1\n",
        "\\end{pmatrix}$\n",
        "\n",
        "Because both eigenvalues are positive, the motion is away from the origin and the fixed point is unstable. Also, $\\lambda_1 > \\lambda_2$, so the motion is faster along the first eigenvector with $x_2 = x_1$ and the curves bend in this direction. A computer-generated phase portrait is shown below.\n",
        "\n",
        "![](https://drive.google.com/uc?export=view&id=1kmJOeKLwcLzLaSWuRcxIUc6O2Z_UbdCr)"
      ],
      "metadata": {
        "id": "XR-ei40cwddM"
      }
    },
    {
      "cell_type": "markdown",
      "source": [
        "### Task 6"
      ],
      "metadata": {
        "id": "uGqkXHsor4ZJ"
      }
    },
    {
      "cell_type": "markdown",
      "source": [
        "Consider the system of differential equations given by\n",
        "\n",
        "$\\dot{x}_1 = x_1 + x_2, \\space \\dot{x}_2 = -x_1 + x_2$\n",
        "\n",
        "Determine the eigenvalues and eigenvectors, and sketch the phase portrait."
      ],
      "metadata": {
        "id": "bOMM2P0Ur4uh"
      }
    },
    {
      "cell_type": "markdown",
      "source": [
        "Coefficients matrix is $A = \\begin{pmatrix}\n",
        "1 & 1 \\\\\n",
        "-1 & 1\n",
        "\\end{pmatrix}$.\n",
        "The characteristic equation is given by $(A-\\lambda I)𝗏=0$. To determine the eigenvalues one needs to compute the det:\n",
        "$$det(A-\\lambda I) = (1-\\lambda)^2 + 1 = 0$$\n",
        "with roots $\\lambda = 1 \\pm i$.\n",
        "\n",
        "The eigenvector for the case of $\\lambda = 1 + i$ is $𝗏_1 = \\begin{pmatrix}\n",
        "1 \\\\\n",
        "i\n",
        "\\end{pmatrix}$\n",
        "\n",
        "The phase portrait is an unstable spiral point. To determine the handedness, we compute the derivatives at the point $(x_1, x_2) = (0, 1)$ and find $(\\dot{x}_1, \\dot{x}_2) = (1, 1)$. The stability and direction of motion indicates a clockwise spiral moving outwards.\n",
        "\n",
        "![](https://drive.google.com/uc?export=view&id=11b3qvovhtO_4ytdEYA3KXyZy1ihZA0FA)"
      ],
      "metadata": {
        "id": "1FiLB9j3sE-x"
      }
    },
    {
      "cell_type": "markdown",
      "source": [
        "### Task 7"
      ],
      "metadata": {
        "id": "vwtku4egqVQ9"
      }
    },
    {
      "cell_type": "markdown",
      "source": [
        "![](https://drive.google.com/uc?export=view&id=1DUvdO_U2g1h_tBF3M0poljBruyxqjmOM)\n",
        "\n",
        "Consider the mass-spring system shown above. Determine the matrix equation represented as $m\\ddot{x}= Ax$."
      ],
      "metadata": {
        "id": "EhjEgWvuqY3Y"
      }
    },
    {
      "cell_type": "markdown",
      "source": [
        "First, let's construct force quations for each object:\n",
        "\n",
        "$\\left\\{\n",
        "    \\begin{array}\\\\\n",
        "      m\\ddot{x}_1 = -kx_1 - k(x_1 - x_2) \\\\\n",
        "      m\\ddot{x}_2 = -k(x_2-x_1)\n",
        "    \\end{array}\n",
        "  \\right. $  \n",
        "\n",
        "Rewriting it in the form of the sustem of differential equations one obtains:\n",
        "\n",
        "$$m\\frac{d^2}{dt^2}\\begin{pmatrix}\n",
        "x_1\\\\\n",
        "x_2\n",
        "\\end{pmatrix} =\\begin{pmatrix}\n",
        "-2k & k\\\\\n",
        "k & -k\n",
        "\\end{pmatrix} \\begin{pmatrix}\n",
        "x_1\\\\\n",
        "x_2 \\end{pmatrix}$$"
      ],
      "metadata": {
        "id": "uVsrrhVnrF63"
      }
    },
    {
      "cell_type": "markdown",
      "source": [
        "Find the angular frequencies and the eigenvectors of the two normal modes."
      ],
      "metadata": {
        "id": "FZUw0V0YoQ2W"
      }
    },
    {
      "cell_type": "markdown",
      "source": [
        "Let's divide both sides by $k$ and with ansatz $𝚡 =  𝗏 e^{rt}$, the matrix equation becomes $A𝗏 = \\lambda 𝗏$, with $\\lambda = mr^2/k$.\n",
        "\n",
        "The eigenvalues of $A$ are found from $det(A - \\lambda I) = \\lambda^2 + 3\\lambda + 1 = 0$, or $\\lambda_1 = -(3+\\sqrt{5})/2$ and  $\\lambda_2 = -(3-\\sqrt{5})/2$.\n",
        "\n",
        "The corresponding eigenvectors are computed from the $A𝗏 = \\lambda 𝗏$:\n",
        "\n",
        "$𝗏_1 = \\begin{pmatrix}\n",
        "1 \\\\\n",
        "-(\\sqrt{5}-1)/2\n",
        "\\end{pmatrix}$ and $𝗏_2 = \\begin{pmatrix}\n",
        "1 \\\\\n",
        "(\\sqrt{5}+1)/2\n",
        "\\end{pmatrix}$"
      ],
      "metadata": {
        "id": "yQ-MLngXoSSY"
      }
    }
  ]
}